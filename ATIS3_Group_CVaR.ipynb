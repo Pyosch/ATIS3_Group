{
 "cells": [
  {
   "cell_type": "code",
   "execution_count": 1,
   "metadata": {},
   "outputs": [
    {
     "name": "stderr",
     "output_type": "stream",
     "text": [
      "\u001b[32m\u001b[1m Activating\u001b[22m\u001b[39m environment at `D:\\ATIS3\\Project.toml`\n"
     ]
    }
   ],
   "source": [
    "using Pkg\n",
    "Pkg.activate(\"D://ATIS3//Project.toml\") # change path \n",
    "Pkg.instantiate()"
   ]
  },
  {
   "cell_type": "code",
   "execution_count": 2,
   "metadata": {},
   "outputs": [],
   "source": [
    "using JuMP, LinearAlgebra, Plots, StatsPlots, CPLEX, Statistics, CSV, DataFrames"
   ]
  },
  {
   "cell_type": "code",
   "execution_count": 3,
   "metadata": {},
   "outputs": [
    {
     "data": {
      "text/plain": [
       "5000"
      ]
     },
     "execution_count": 3,
     "metadata": {},
     "output_type": "execute_result"
    }
   ],
   "source": [
    "#read scenario data\n",
    "scenarios = CSV.read(\"scenarios_multinomial.csv\", DataFrame)\n",
    "\n",
    "SOC = 0.33\n",
    "hexagons = names(scenarios)[1:length(names(scenarios))-1] # vector of hexagons (strings)\n",
    "hours = 4 # duration for charging\n",
    "car_kWh = 30 # capacity of each car\n",
    "\n",
    "#demand mxn (m=hexagon, n=scenario) in kWh summe über car*max_kWh*(1-SOC)\n",
    "demand_cars = transpose(convert(Matrix,scenarios[:,hexagons]))\n",
    "demand_kWh = demand_cars.*car_kWh.*(1-SOC)\n",
    "\n",
    "probability = transpose(scenarios.probs) # probability for each scenario\n",
    "\n",
    "P = [3, 7, 11] # different charger types in kW\n",
    "charger_cost = [1000, 800, 500] # investment cost for charger 3 kW, 7 kW und 11 kW in €/kW\n",
    "opportunity_cost = 5000 # cost of demand not served\n"
   ]
  },
  {
   "cell_type": "code",
   "execution_count": 8,
   "metadata": {
    "scrolled": true
   },
   "outputs": [
    {
     "data": {
      "text/plain": [
       "charger_siting (generic function with 1 method)"
      ]
     },
     "execution_count": 8,
     "metadata": {},
     "output_type": "execute_result"
    }
   ],
   "source": [
    "function charger_siting(SOC, hexagons, hours, car_kWh, demand_cars, demand_kWh, probability, P,\n",
    "        charger_cost, opportunity_cost)\n",
    "    \n",
    "    # Define Sets\n",
    "    Γ = Array{Int}(1:size(hexagons,1)) # Set with hexagons\n",
    "    Σ = Array{Int}(1:size(P,1)) # Set with charger types \n",
    "    Ω = Array{Int}(1:size(probability,1)) # Set with scenarios\n",
    "\n",
    "    # Initialize model    \n",
    "    m = Model(CPLEX.Optimizer)\n",
    "    \n",
    "    # Consider CVaR\n",
    "    @variable(m, s[i=Ω] >= 0) # auxiliary variable for VaR, indicator for which scenarios may excess VaR.\n",
    "    @variable(m, η) # the value-at-risk, VaR, is equal to the largest value η ensuring that the probability...\n",
    "                    # of obtaining a profit less than η is lower than 1 − α.\n",
    "    α = 0.05\n",
    "    \n",
    "    # Define variables\n",
    "    @variable(m, 0 <= x_charger[i=Γ, j=Σ], Int) # number of specific charger type in each hexagon\n",
    "    @variable(m, 0 <= E_supplied[i=Γ, j=Σ, k=Ω]) # supplied energy in each hexagon kWh\n",
    "    @variable(m, 0 <= E_not_supplied[i=Γ, k=Ω]) # demand not covered kWh\n",
    "    @variable(m, 0 <= cars_supplied[i=Γ, j=Σ, k=Ω], Int)\n",
    "    @variable(m, 0 <= cars_not_supplied[i=Γ, j=Σ, k=Ω], Int)\n",
    "\n",
    "    # Constraints\n",
    "    # Eq. Balance equation: Demand in each hexagon has to equal demand. Loss of load is possible\n",
    "    @constraint(m, eq_balance[i=Γ,k=Ω], sum(E_supplied[i,j,k] for j in Σ) + E_not_supplied[i,k] == demand_kWh[i,k])\n",
    "\n",
    "    # Eq. energy limit: rated_power*chargingtime must not exeed energy\n",
    "    @constraint(m, eq_cap[i=Γ,j=Σ,k=Ω], E_supplied[i,j,k] <= x_charger[i,j].*P[j].*hours)\n",
    "\n",
    "    # Eq. supplied cars and not supplied cars have to equal amount of cars in each hexagon\n",
    "    @constraint(m, eq_cars_supplied[i=Γ,j=Σ,k=Ω], sum(cars_supplied[i,j,k] for j in Σ) \n",
    "                                                + sum(cars_not_supplied[i,j,k] for j in Σ)\n",
    "                                                == demand_cars[i,k])\n",
    "\n",
    "    # Eq. maximum one car per charging station\n",
    "    @constraint(m, eq_max_cars[i=Γ,j=Σ,k=Ω], cars_supplied[i,j,k] <= x_charger[i,j])\n",
    "\n",
    "    # Eq. \n",
    "    @constraint(m, eq_max_supply[i=Γ,j=Σ,k=Ω], E_supplied[i,j,k] <= cars_supplied[i,j,k].*car_kWh.*(1-SOC))\n",
    "\n",
    "\n",
    "    # ---------------------- CVaR ------------------------\n",
    "    # Kosten in jedem Szenario\n",
    "    @expression(m, invest_cost[i=Γ,j=Σ], charger_cost[j].*x_charger[i,j].*P[j]) # first stage investment cost\n",
    "    @expression(m, exp_charging_cost[i=Γ,k=Ω], opportunity_cost.*E_not_supplied[i,k].*probability[k])\n",
    "    @expression(m, cost[k=Ω], invest_cost + opportunity_cost.*sum(E_not_supplied[i,k] for i in Γ))\n",
    "    \n",
    "    @constraint(m, cost .- η .<= s)\n",
    "    @expression(m, CVaR, η + 1/(1-α) * dot(probability, s))\n",
    "    # -----------------------------------------------------\n",
    "    \n",
    "    # Objective function \n",
    "    @objective(m, Min, (1-λ)*(sum(invest_cost) + sum(exp_charging_cost)) \n",
    "                      + λ * CVaR)  \n",
    "    \n",
    "    # @objective(m, Min, (1-λ)*exp_cost + λ * CVaR)\n",
    "    \n",
    "    # Run optimization\n",
    "    optimize!(m)\n",
    "\n",
    "    # Evaluate resuluts\n",
    "    obj = objective_value(m)\n",
    "    charger_in_hex = value.(x_charger)\n",
    "    \n",
    "    return charger_in_hex, x_charger, E_not_supplied, E_supplied, cars_not_supplied, cars_supplied\n",
    "end\n"
   ]
  },
  {
   "cell_type": "code",
   "execution_count": 9,
   "metadata": {
    "scrolled": true
   },
   "outputs": [
    {
     "ename": "LoadError",
     "evalue": "MethodError: no method matching +(::JuMP.Containers.DenseAxisArray{GenericAffExpr{Float64,VariableRef},2,Tuple{Array{Int64,1},Array{Int64,1}},Tuple{Dict{Int64,Int64},Dict{Int64,Int64}}}, ::GenericAffExpr{Float64,VariableRef})\nClosest candidates are:\n  +(::Any, ::Any, !Matched::Any, !Matched::Any...) at operators.jl:538\n  +(!Matched::MutableArithmetics.Zero, ::Any) at C:\\Users\\Namockeln\\.julia\\packages\\MutableArithmetics\\0tlz5\\src\\rewrite.jl:52\n  +(::AbstractArray{T,2} where T, !Matched::UniformScaling) at D:\\buildbot\\worker\\package_win64\\build\\usr\\share\\julia\\stdlib\\v1.5\\LinearAlgebra\\src\\uniformscaling.jl:180\n  ...",
     "output_type": "error",
     "traceback": [
      "MethodError: no method matching +(::JuMP.Containers.DenseAxisArray{GenericAffExpr{Float64,VariableRef},2,Tuple{Array{Int64,1},Array{Int64,1}},Tuple{Dict{Int64,Int64},Dict{Int64,Int64}}}, ::GenericAffExpr{Float64,VariableRef})\nClosest candidates are:\n  +(::Any, ::Any, !Matched::Any, !Matched::Any...) at operators.jl:538\n  +(!Matched::MutableArithmetics.Zero, ::Any) at C:\\Users\\Namockeln\\.julia\\packages\\MutableArithmetics\\0tlz5\\src\\rewrite.jl:52\n  +(::AbstractArray{T,2} where T, !Matched::UniformScaling) at D:\\buildbot\\worker\\package_win64\\build\\usr\\share\\julia\\stdlib\\v1.5\\LinearAlgebra\\src\\uniformscaling.jl:180\n  ...",
      "",
      "Stacktrace:",
      " [1] add_mul(::JuMP.Containers.DenseAxisArray{GenericAffExpr{Float64,VariableRef},2,Tuple{Array{Int64,1},Array{Int64,1}},Tuple{Dict{Int64,Int64},Dict{Int64,Int64}}}, ::GenericAffExpr{Float64,VariableRef}) at C:\\Users\\Namockeln\\.julia\\packages\\MutableArithmetics\\0tlz5\\src\\MutableArithmetics.jl:21",
      " [2] operate(::typeof(MutableArithmetics.add_mul), ::JuMP.Containers.DenseAxisArray{GenericAffExpr{Float64,VariableRef},2,Tuple{Array{Int64,1},Array{Int64,1}},Tuple{Dict{Int64,Int64},Dict{Int64,Int64}}}, ::GenericAffExpr{Float64,VariableRef}) at C:\\Users\\Namockeln\\.julia\\packages\\MutableArithmetics\\0tlz5\\src\\interface.jl:88",
      " [3] operate_fallback!(::MutableArithmetics.NotMutable, ::Function, ::JuMP.Containers.DenseAxisArray{GenericAffExpr{Float64,VariableRef},2,Tuple{Array{Int64,1},Array{Int64,1}},Tuple{Dict{Int64,Int64},Dict{Int64,Int64}}}, ::GenericAffExpr{Float64,VariableRef}) at C:\\Users\\Namockeln\\.julia\\packages\\MutableArithmetics\\0tlz5\\src\\interface.jl:275",
      " [4] operate!(::typeof(MutableArithmetics.add_mul), ::JuMP.Containers.DenseAxisArray{GenericAffExpr{Float64,VariableRef},2,Tuple{Array{Int64,1},Array{Int64,1}},Tuple{Dict{Int64,Int64},Dict{Int64,Int64}}}, ::GenericAffExpr{Float64,VariableRef}) at C:\\Users\\Namockeln\\.julia\\packages\\MutableArithmetics\\0tlz5\\src\\rewrite.jl:70",
      " [5] macro expansion at C:\\Users\\Namockeln\\.julia\\packages\\MutableArithmetics\\0tlz5\\src\\rewrite.jl:227 [inlined]",
      " [6] (::var\"#74#89\"{Int64,Array{Int64,1},JuMP.Containers.DenseAxisArray{VariableRef,2,Tuple{Array{Int64,1},Array{Int64,1}},Tuple{Dict{Int64,Int64},Dict{Int64,Int64}}},JuMP.Containers.DenseAxisArray{GenericAffExpr{Float64,VariableRef},2,Tuple{Array{Int64,1},Array{Int64,1}},Tuple{Dict{Int64,Int64},Dict{Int64,Int64}}}})(::Int64) at C:\\Users\\Namockeln\\.julia\\packages\\JuMP\\qhoVb\\src\\Containers\\macro.jl:183",
      " [7] (::JuMP.Containers.var\"#28#29\"{var\"#74#89\"{Int64,Array{Int64,1},JuMP.Containers.DenseAxisArray{VariableRef,2,Tuple{Array{Int64,1},Array{Int64,1}},Tuple{Dict{Int64,Int64},Dict{Int64,Int64}}},JuMP.Containers.DenseAxisArray{GenericAffExpr{Float64,VariableRef},2,Tuple{Array{Int64,1},Array{Int64,1}},Tuple{Dict{Int64,Int64},Dict{Int64,Int64}}}}})(::Tuple{Int64}) at C:\\Users\\Namockeln\\.julia\\packages\\JuMP\\qhoVb\\src\\Containers\\container.jl:85",
      " [8] iterate at .\\generator.jl:47 [inlined]",
      " [9] collect(::Base.Generator{JuMP.Containers.VectorizedProductIterator{Tuple{Array{Int64,1}}},JuMP.Containers.var\"#28#29\"{var\"#74#89\"{Int64,Array{Int64,1},JuMP.Containers.DenseAxisArray{VariableRef,2,Tuple{Array{Int64,1},Array{Int64,1}},Tuple{Dict{Int64,Int64},Dict{Int64,Int64}}},JuMP.Containers.DenseAxisArray{GenericAffExpr{Float64,VariableRef},2,Tuple{Array{Int64,1},Array{Int64,1}},Tuple{Dict{Int64,Int64},Dict{Int64,Int64}}}}}}) at .\\array.jl:686",
      " [10] map(::Function, ::JuMP.Containers.VectorizedProductIterator{Tuple{Array{Int64,1}}}) at .\\abstractarray.jl:2188",
      " [11] container(::Function, ::JuMP.Containers.VectorizedProductIterator{Tuple{Array{Int64,1}}}, ::Type{JuMP.Containers.DenseAxisArray}) at C:\\Users\\Namockeln\\.julia\\packages\\JuMP\\qhoVb\\src\\Containers\\container.jl:85",
      " [12] container at C:\\Users\\Namockeln\\.julia\\packages\\JuMP\\qhoVb\\src\\Containers\\container.jl:65 [inlined]",
      " [13] macro expansion at C:\\Users\\Namockeln\\.julia\\packages\\JuMP\\qhoVb\\src\\macros.jl:91 [inlined]",
      " [14] charger_siting(::Float64, ::Array{String,1}, ::Int64, ::Int64, ::Transpose{Float64,Array{Float64,2}}, ::Array{Float64,2}, ::Transpose{Float64,Array{Float64,1}}, ::Array{Int64,1}, ::Array{Int64,1}, ::Int64) at .\\In[8]:48",
      " [15] top-level scope at In[9]:1",
      " [16] include_string(::Function, ::Module, ::String, ::String) at .\\loading.jl:1091"
     ]
    }
   ],
   "source": [
    "charger_in_hex, x_charger, E_not_supplied, E_supplied, cars_not_supplied, cars_supplied = charger_siting(\n",
    "    SOC, hexagons, hours, car_kWh, demand_cars, demand_kWh, probability, P, charger_cost, opportunity_cost)\n",
    "\n",
    "println(charger_in_hex)"
   ]
  },
  {
   "cell_type": "code",
   "execution_count": null,
   "metadata": {},
   "outputs": [],
   "source": []
  }
 ],
 "metadata": {
  "kernelspec": {
   "display_name": "Julia 1.5.2",
   "language": "julia",
   "name": "julia-1.5"
  },
  "language_info": {
   "file_extension": ".jl",
   "mimetype": "application/julia",
   "name": "julia",
   "version": "1.5.2"
  }
 },
 "nbformat": 4,
 "nbformat_minor": 4
}
