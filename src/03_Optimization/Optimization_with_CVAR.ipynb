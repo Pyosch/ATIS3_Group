{
 "cells": [
  {
   "cell_type": "code",
   "execution_count": 6,
   "metadata": {},
   "outputs": [
    {
     "name": "stderr",
     "output_type": "stream",
     "text": [
      "\u001b[32m\u001b[1m  Resolving\u001b[22m\u001b[39m package versions...\n",
      "\u001b[32m\u001b[1m  Installed\u001b[22m\u001b[39m CSV ─ v0.8.2\n",
      "\u001b[32m\u001b[1mUpdating\u001b[22m\u001b[39m `~/Development/ATIS3_2020/Project.toml`\n",
      " \u001b[90m [336ed68f] \u001b[39m\u001b[92m+ CSV v0.8.2\u001b[39m\n",
      "\u001b[32m\u001b[1mUpdating\u001b[22m\u001b[39m `~/Development/ATIS3_2020/Manifest.toml`\n",
      " \u001b[90m [336ed68f] \u001b[39m\u001b[92m+ CSV v0.8.2\u001b[39m\n",
      " \u001b[90m [91c51154] \u001b[39m\u001b[92m+ SentinelArrays v1.2.16\u001b[39m\n"
     ]
    }
   ],
   "source": [
    "# import Pkg; Pkg.add(\"CSV\")"
   ]
  },
  {
   "cell_type": "code",
   "execution_count": 4,
   "metadata": {},
   "outputs": [
    {
     "name": "stderr",
     "output_type": "stream",
     "text": [
      "\u001b[32m\u001b[1m Activating\u001b[22m\u001b[39m environment at `~/Development/ATIS3_2020/Project.toml`\n"
     ]
    }
   ],
   "source": [
    "using Pkg\n",
    "Pkg.activate(\"/Users/demircanm/Development/ATIS3_2020\") # change path \n",
    "Pkg.instantiate()"
   ]
  },
  {
   "cell_type": "code",
   "execution_count": 7,
   "metadata": {},
   "outputs": [
    {
     "name": "stderr",
     "output_type": "stream",
     "text": [
      "┌ Info: Precompiling CSV [336ed68f-0bac-5ca0-87d4-7b16caf5d00b]\n",
      "└ @ Base loading.jl:1278\n",
      "┌ Info: Precompiling DataFrames [a93c6f00-e57d-5684-b7b6-d8193f3e46c0]\n",
      "└ @ Base loading.jl:1278\n"
     ]
    }
   ],
   "source": [
    "using JuMP, LinearAlgebra, Plots, StatsPlots, CPLEX, Statistics, CSV, DataFrames"
   ]
  },
  {
   "cell_type": "code",
   "execution_count": 8,
   "metadata": {},
   "outputs": [
    {
     "data": {
      "text/plain": [
       "5000"
      ]
     },
     "execution_count": 8,
     "metadata": {},
     "output_type": "execute_result"
    }
   ],
   "source": [
    "#read scenario data\n",
    "scenarios = CSV.read(\"/Users/demircanm/sciebo/IS3/Research_Projects/ATIS3-Group/01 Data/scenarios_multinomial.csv\", DataFrame)\n",
    "\n",
    "SOC = 0.33\n",
    "hexagons = names(scenarios)[1:length(names(scenarios))-1] # vector of hexagons (strings)\n",
    "hours = 4 # duration for charging\n",
    "car_kWh = 30 # capacity of each car\n",
    "\n",
    "#demand mxn (m=hexagon, n=scenario) in kWh summe über car*max_kWh*(1-SOC)\n",
    "demand_cars = transpose(convert(Matrix,scenarios[:,hexagons]))\n",
    "demand_kWh = demand_cars.*car_kWh.*(1-SOC)\n",
    "\n",
    "probability = transpose(scenarios.probs) # probability for each scenario\n",
    "\n",
    "P = [3, 7, 11] # different charger types in kW\n",
    "charger_cost = [1000, 800, 500] # investment cost for charger 3 kW, 7 kW und 11 kW in €/kW\n",
    "opportunity_cost = 5000 # cost of demand not served\n"
   ]
  },
  {
   "cell_type": "code",
   "execution_count": 12,
   "metadata": {},
   "outputs": [
    {
     "data": {
      "text/plain": [
       "1×6 Transpose{Float64,Array{Float64,1}}:\n",
       " 0.163  0.243  0.154  0.156  0.127  0.157"
      ]
     },
     "execution_count": 12,
     "metadata": {},
     "output_type": "execute_result"
    }
   ],
   "source": [
    "probability"
   ]
  },
  {
   "cell_type": "code",
   "execution_count": 187,
   "metadata": {
    "scrolled": true
   },
   "outputs": [
    {
     "data": {
      "text/plain": [
       "charger_siting (generic function with 1 method)"
      ]
     },
     "execution_count": 187,
     "metadata": {},
     "output_type": "execute_result"
    }
   ],
   "source": [
    "function charger_siting(SOC, hexagons, hours, car_kWh, demand_cars, demand_kWh, probability, P,\n",
    "        charger_cost, opportunity_cost)\n",
    "    \n",
    "    # Define Sets\n",
    "    Γ = Array{Int}(1:size(hexagons,1)) # Set with hexagons\n",
    "    Σ = Array{Int}(1:size(P,1)) # Set with charger types \n",
    "    Ω = Array{Int}(1:size(probability,2)) # Set with scenarios\n",
    "\n",
    "    # Initialize model    \n",
    "    m = Model(CPLEX.Optimizer)\n",
    "    \n",
    "\n",
    "\n",
    "    # Define variables\n",
    "    @variable(m, 0 <= x_charger[i=Γ, j=Σ], Int) # number of specific charger type in each hexagon\n",
    "    @variable(m, 0 <= E_supplied[i=Γ, j=Σ, k=Ω]) # supplied energy in each hexagon kWh\n",
    "    @variable(m, 0 <= E_not_supplied[i=Γ, k=Ω]) # demand not covered kWh\n",
    "    @variable(m, 0 <= cars_supplied[i=Γ, j=Σ, k=Ω], Int)\n",
    "    @variable(m, 0 <= cars_not_supplied[i=Γ, j=Σ, k=Ω], Int)\n",
    "    \n",
    "    # CVAR\n",
    "    @variable(m, cVAR) \n",
    "    @variable(m, 0 <= s[k=Ω])\n",
    "    \n",
    "    β = 1.0\n",
    "    α = 0.95\n",
    "\n",
    "\n",
    "    # Objective function \n",
    "    @expression(m, invest_cost[i=Γ,j=Σ], charger_cost[j].*x_charger[i,j].*P[j]) # first stage investment cost\n",
    "    @expression(m, charging_cost[i=Γ,k=Ω], opportunity_cost.*E_not_supplied[i,k].*probability[k])\n",
    "    \n",
    "    @objective(m, Max, (1-β)*(-1)*(sum(invest_cost)+sum(charging_cost)) + (β*(cVAR-(1/(1-α) * dot(probability, s)))) )\n",
    "\n",
    "    # Constraints\n",
    "    # Eq. Balance equation: Demand in each hexagon has to equal demand. Loss of load is possible\n",
    "    @constraint(m, eq_balance[i=Γ,k=Ω], sum(E_supplied[i,j,k] for j in Σ) + E_not_supplied[i,k] == demand_kWh[i,k])\n",
    "\n",
    "    # Eq. energy limit: rated_power*chargingtime must not exeed energy\n",
    "    @constraint(m, eq_cap[i=Γ,j=Σ,k=Ω], E_supplied[i,j,k] <= x_charger[i,j].*P[j].*hours)\n",
    "\n",
    "    # Eq. supplied cars and not supplied cars have to equal amount of cars in each hexagon\n",
    "    @constraint(m, eq_cars_supplied[i=Γ,j=Σ,k=Ω], sum(cars_supplied[i,j,k] for j in Σ) \n",
    "                                                + sum(cars_not_supplied[i,j,k] for j in Σ)\n",
    "                                                == demand_cars[i,k])\n",
    "\n",
    "    # Eq. maximum one car per charging station\n",
    "    @constraint(m, eq_max_cars[i=Γ,j=Σ,k=Ω], cars_supplied[i,j,k] <= x_charger[i,j])\n",
    "\n",
    "    # Eq. \n",
    "    @constraint(m, eq_max_supply[i=Γ,j=Σ,k=Ω], E_supplied[i,j,k] <= cars_supplied[i,j,k].*car_kWh.*(1-SOC))\n",
    "\n",
    "    # CVAR Constraint\n",
    "    @constraint(m, cvar_constraint[k=Ω], cVAR + (sum(charger_cost[j].*x_charger[i,j].*P[j] for j in Σ for i in Γ) + sum(opportunity_cost.*E_not_supplied[i,k] for i in Γ)) <= s[k])\n",
    "\n",
    "\n",
    "    \n",
    "    # Run optimization\n",
    "    optimize!(m)\n",
    "\n",
    "    # Evaluate resuluts\n",
    "    obj = objective_value(m)\n",
    "    charger_in_hex = value.(x_charger)\n",
    "    cond_val_risk = value.(cVAR)\n",
    "\n",
    "    return charger_in_hex, x_charger, E_not_supplied, E_supplied, cars_not_supplied, cars_supplied, cond_val_risk, obj\n",
    "end\n"
   ]
  },
  {
   "cell_type": "code",
   "execution_count": 188,
   "metadata": {
    "scrolled": true
   },
   "outputs": [
    {
     "name": "stdout",
     "output_type": "stream",
     "text": [
      "Version identifier: 12.10.0.0 | 2019-11-26 | 843d4de\n",
      "Tried aggregator 1 time.\n",
      "MIP Presolve eliminated 3298 rows and 2779 columns.\n",
      "MIP Presolve modified 162 coefficients.\n",
      "Reduced MIP has 4274 rows, 3339 columns, and 11856 nonzeros.\n",
      "Reduced MIP has 296 binaries, 1484 generals, 0 SOSs, and 0 indicators.\n",
      "Presolve time = 0.01 sec. (9.00 ticks)\n",
      "Found incumbent of value -1.1043442e+09 after 0.02 sec. (12.82 ticks)\n",
      "Probing time = 0.00 sec. (0.24 ticks)\n",
      "Tried aggregator 1 time.\n",
      "Detecting symmetries...\n",
      "Reduced MIP has 4274 rows, 3339 columns, and 11856 nonzeros.\n",
      "Reduced MIP has 296 binaries, 1484 generals, 0 SOSs, and 0 indicators.\n",
      "Presolve time = 0.01 sec. (7.49 ticks)\n",
      "Probing time = 0.00 sec. (0.27 ticks)\n",
      "Clique table members: 130.\n",
      "MIP emphasis: balance optimality and feasibility.\n",
      "MIP search method: dynamic search.\n",
      "Parallel mode: deterministic, using up to 4 threads.\n",
      "Root relaxation solution time = 0.03 sec. (16.56 ticks)\n",
      "\n",
      "        Nodes                                         Cuts/\n",
      "   Node  Left     Objective  IInf  Best Integer    Best Bound    ItCnt     Gap\n",
      "\n",
      "*     0+    0                      -1.10434e+09                           0.00%\n",
      "*     0+    0                      -7.17882e+07                           0.00%\n",
      "*     0+    0                      -5.96970e+07                           0.00%\n",
      "      0     0 -3728550.0000    76  -5.96970e+07 -3728550.0000      942   93.75%\n",
      "*     0+    0                     -3855000.0000 -3728550.0000             3.28%\n",
      "      0     0 -3780466.5273    76 -3855000.0000     Cuts: 400     1300    1.93%\n",
      "      0     0 -3785420.0758    76 -3855000.0000     Cuts: 241     1531    1.80%\n",
      "*     0+    0                     -3838700.0000 -3785420.0758             1.39%\n",
      "      0     0 -3785820.3780    76 -3838700.0000   MIRcuts: 51     1595    1.38%\n",
      "      0     0 -3786230.0006    76 -3838700.0000   MIRcuts: 12     1610    1.37%\n",
      "      0     0 -3786261.1234    76 -3838700.0000    MIRcuts: 4     1616    1.37%\n",
      "      0     0 -3786303.3725    76 -3838700.0000   MIRcuts: 13     1622    1.36%\n",
      "*     0+    0                     -3819000.0000 -3786303.3725             0.86%\n",
      "      0     0 -3786306.5971    76 -3819000.0000    MIRcuts: 1     1624    0.86%\n",
      "      0     0 -3786343.8152    76 -3819000.0000    MIRcuts: 4     1633    0.86%\n",
      "      0     0 -3786345.0972    76 -3819000.0000    MIRcuts: 1     1634    0.86%\n",
      "*     0+    0                     -3816700.0000 -3786669.0965             0.79%\n",
      "*     0+    0                     -3814100.0000 -3786669.0965             0.72%\n",
      "      0     0        cutoff       -3814100.0000 -3786669.0965     1634    0.72%\n",
      "      0     2 -3786345.0972   184 -3814100.0000 -3786669.0965     1634    0.72%\n",
      "Elapsed time = 0.69 sec. (370.25 ticks, tree = 0.02 MB, solutions = 8)\n",
      "*    29+    3                     -3812100.0000 -3786669.0965             0.67%\n",
      "*    33+    2                     -3811100.0000 -3786669.0965             0.64%\n",
      "*    39+    3                     -3809200.0000 -3786669.0965             0.59%\n",
      "*    43+    2                     -3809100.0000 -3786669.0965             0.59%\n",
      "    142   123 -3787649.7882   124 -3809100.0000 -3786669.0965     2071    0.59%\n",
      "    439   404 -3796887.8168    78 -3809100.0000 -3786669.0965     5682    0.59%\n",
      "*   597+  420                     -3808200.0000 -3786669.0965             0.57%\n",
      "*   603+  416                     -3807700.0000 -3786669.0965             0.55%\n",
      "*   621+  411                     -3806700.0000 -3786669.0965             0.53%\n",
      "*   624+  405                     -3805200.0000 -3786669.0965             0.49%\n",
      "    730   539 -3786923.8166   114 -3805200.0000 -3786669.0965     6740    0.49%\n",
      "   1100   916 -3803236.8551    60 -3805200.0000 -3786669.0965    10363    0.49%\n",
      "\n",
      "Performing restart 1\n",
      "\n",
      "Repeating presolve.\n",
      "Tried aggregator 1 time.\n",
      "MIP Presolve eliminated 0 rows and 21 columns.\n",
      "Reduced MIP has 4274 rows, 3318 columns, and 11835 nonzeros.\n",
      "Reduced MIP has 275 binaries, 1484 generals, 0 SOSs, and 0 indicators.\n",
      "Presolve time = 0.01 sec. (5.39 ticks)\n",
      "Tried aggregator 1 time.\n",
      "Reduced MIP has 4274 rows, 3318 columns, and 11835 nonzeros.\n",
      "Reduced MIP has 275 binaries, 1484 generals, 0 SOSs, and 0 indicators.\n",
      "Presolve time = 0.01 sec. (7.70 ticks)\n",
      "Represolve time = 0.05 sec. (21.99 ticks)\n",
      "   1311     0 -3786837.3918   187 -3805200.0000      Cuts: 50    14072    0.48%\n",
      "   1311     0 -3787073.5123   187 -3805200.0000      Cuts: 52    14136    0.48%\n",
      "   1311     0 -3787190.5474   187 -3805200.0000      Cuts: 34    14166    0.47%\n",
      "   1311     0 -3787219.9001   187 -3805200.0000      Cuts: 15    14188    0.47%\n",
      "   1311     0 -3787262.2896   187 -3805200.0000      Cuts: 35    14216    0.47%\n",
      "   1311     0 -3787265.6320   187 -3805200.0000      Cuts: 20    14233    0.47%\n",
      "   1311     0 -3787268.3846   187 -3805200.0000       Cuts: 5    14239    0.47%\n",
      "   1311     0 -3787294.0610   187 -3805200.0000    MIRcuts: 4    14253    0.47%\n",
      "   1311     0 -3787314.6950   187 -3805200.0000      Cuts: 26    14273    0.47%\n",
      "   1311     0 -3787315.7417   187 -3805200.0000    MIRcuts: 7    14282    0.47%\n",
      "   1311     0 -3787634.9199   187 -3805200.0000   MIRcuts: 21    14301    0.46%\n",
      "   1311     0 -3787634.9199   187 -3805200.0000   MIRcuts: 10    14308    0.46%\n",
      "   1311     0 -3787634.9199   187 -3805200.0000    MIRcuts: 4    14313    0.46%\n",
      "*  1311+    0                     -3804600.0000 -3787634.9199             0.45%\n",
      "*  1311+    0                     -3800600.0000 -3787634.9199             0.34%\n",
      "*  1311+    0                     -3800100.0000 -3787634.9199             0.33%\n",
      "*  1311+    0                     -3799100.0000 -3787634.9199             0.30%\n",
      "*  1311+    0                     -3798100.0000 -3787634.9199             0.28%\n",
      "*  1311+    0                     -3796600.0000 -3787634.9199             0.24%\n",
      "   1311     0        cutoff       -3796600.0000 -3787634.9199    14313    0.24%\n",
      "   1311     2 -3787634.9199   127 -3796600.0000 -3787634.9199    14313    0.24%\n",
      "*  1326+    1                     -3796000.0000 -3787635.8767             0.22%\n",
      "*  1331+    1                     -3795000.0000 -3787635.8767             0.19%\n",
      "*  1331+    1                     -3794000.0000 -3787635.8767             0.17%\n",
      "   1335    22 -3792008.2076   108 -3794000.0000 -3787635.8767    14558    0.17%\n",
      "*  1336+    3                     -3792500.0000 -3787635.8767             0.13%\n",
      "*  1336+    3                     -3792000.0000 -3787635.8767             0.12%\n",
      "*  1336+    3                     -3791500.0000 -3787635.8767             0.10%\n",
      "*  1338+    3                     -3791000.0000 -3787635.8767             0.09%\n",
      "   1379    46 -3789081.7872   123 -3791000.0000 -3787854.7389    14673    0.08%\n",
      "   1495    99 -3788655.3328   105 -3791000.0000 -3787866.7298    15045    0.08%\n",
      "   1666   189 -3790136.1473   107 -3791000.0000 -3788019.1759    16026    0.08%\n",
      "   3044   748 -3790726.6245    58 -3791000.0000 -3788425.9573    26540    0.07%\n",
      "Elapsed time = 9.54 sec. (4452.21 ticks, tree = 1.37 MB, solutions = 40)\n",
      "   5185  1624        cutoff       -3791000.0000 -3788722.7910    39152    0.06%\n",
      "   7656  2597 -3790196.1794    82 -3791000.0000 -3788909.0756    52337    0.06%\n",
      "  10229  3706 -3789217.0636   100 -3791000.0000 -3789044.6883    65831    0.05%\n",
      "  12683  4753 -3789218.0231    91 -3791000.0000 -3789115.0379    78317    0.05%\n",
      "  15157  5691 -3790075.6675    71 -3791000.0000 -3789158.8365    88671    0.05%\n",
      "  17855  6718        cutoff       -3791000.0000 -3789199.0143   102360    0.05%\n",
      "  20556  7786 -3790157.6832   102 -3791000.0000 -3789230.9643   114466    0.05%\n",
      "* 21260+ 7947                     -3790500.0000 -3789241.1128             0.03%\n",
      "  22731  5917 -3790101.9742    93 -3790500.0000 -3789261.0960   124221    0.03%\n",
      "  25323  6724        cutoff       -3790500.0000 -3789283.5170   137859    0.03%\n",
      "  26696  7189        cutoff       -3790500.0000 -3789295.4250   147111    0.03%\n",
      "Elapsed time = 27.28 sec. (13992.90 ticks, tree = 12.39 MB, solutions = 42)\n",
      "\n",
      "Performing restart 2\n",
      "\n",
      "Repeating presolve.\n",
      "Tried aggregator 2 times.\n",
      "MIP Presolve eliminated 62 rows and 59 columns.\n",
      "Aggregator did 6 substitutions.\n",
      "Reduced MIP has 4206 rows, 3253 columns, and 11640 nonzeros.\n",
      "Reduced MIP has 234 binaries, 1460 generals, 0 SOSs, and 0 indicators.\n",
      "Presolve time = 0.01 sec. (7.63 ticks)\n",
      "Tried aggregator 1 time.\n",
      "Reduced MIP has 4206 rows, 3253 columns, and 11640 nonzeros.\n",
      "Reduced MIP has 234 binaries, 1460 generals, 0 SOSs, and 0 indicators.\n",
      "Presolve time = 0.01 sec. (7.53 ticks)\n",
      "Represolve time = 0.05 sec. (28.34 ticks)\n",
      "  27118     0 -3787832.0124   132 -3790500.0000      Cuts: 35   151793    0.03%\n",
      "  27118     0 -3787939.3303   132 -3790500.0000      Cuts: 11   151815    0.03%\n",
      "  27118     0 -3787988.2358   132 -3790500.0000      Cuts: 15   151824    0.03%\n",
      "  27118     0 -3788001.2099   132 -3790500.0000       Cuts: 2   151828    0.03%\n",
      "  27118     0 -3788024.5830   132 -3790500.0000    MIRcuts: 3   151834    0.03%\n",
      "  27118     0 -3788024.5830   132 -3790500.0000    MIRcuts: 3   151836    0.03%\n",
      "  27118     2 -3788024.5830   122 -3790500.0000 -3789310.6464   151836    0.03%\n",
      "  27366   100 -3788671.1771   114 -3790500.0000 -3789310.6464   152771    0.03%\n",
      "  28142   372 -3788825.3936   116 -3790500.0000 -3789310.6464   157455    0.03%\n",
      "  29851   965 -3789725.7333    81 -3790500.0000 -3789310.6464   167628    0.03%\n",
      "  31706  1630 -3790488.8985    42 -3790500.0000 -3789310.6464   177712    0.03%\n",
      "  34197  2424 -3789857.1991   108 -3790500.0000 -3789310.6464   189477    0.03%\n",
      "  36646  3104 -3789780.1998    69 -3790500.0000 -3789310.6464   203488    0.03%\n",
      "  39001  3858        cutoff       -3790500.0000 -3789341.6310   218558    0.03%\n",
      "  41428  4471        cutoff       -3790500.0000 -3789408.0657   229691    0.03%\n",
      "  43841  5072 -3789880.4545    71 -3790500.0000 -3789459.5628   245741    0.03%\n",
      "Elapsed time = 48.97 sec. (23739.63 ticks, tree = 8.52 MB, solutions = 42)\n",
      "  46195  5666        cutoff       -3790500.0000 -3789523.3257   259152    0.03%\n",
      "  48288  6125 -3790303.3497    78 -3790500.0000 -3789572.8007   272699    0.02%\n",
      "  50761  6655 -3790381.4511    90 -3790500.0000 -3789622.6483   287479    0.02%\n",
      "  53087  7158 -3789965.5728    88 -3790500.0000 -3789678.8062   303558    0.02%\n",
      "  55218  7489 -3790180.5605    74 -3790500.0000 -3789721.0638   316877    0.02%\n",
      "  57574  7913 -3789811.8872    86 -3790500.0000 -3789761.7086   329022    0.02%\n",
      "  59701  8294 -3790291.1941    65 -3790500.0000 -3789796.0178   341989    0.02%\n",
      "  62219  8657        cutoff       -3790500.0000 -3789824.7481   358275    0.02%\n",
      "  64492  8912 -3790155.5992    79 -3790500.0000 -3789857.7853   369755    0.02%\n",
      "  67008  9278 -3790122.9849    69 -3790500.0000 -3789882.6981   385938    0.02%\n",
      "Elapsed time = 69.19 sec. (33279.70 ticks, tree = 16.28 MB, solutions = 42)\n",
      "  69049  9443        cutoff       -3790500.0000 -3789905.0539   397169    0.02%\n",
      "  71558  9666 -3790372.6573    75 -3790500.0000 -3789932.4146   410165    0.01%\n",
      "  74051  9813 -3790096.1302    95 -3790500.0000 -3789952.7132   423127    0.01%\n",
      "  76309 10039        cutoff       -3790500.0000 -3789978.6769   437897    0.01%\n",
      "  78781 10166 -3790065.0070    63 -3790500.0000 -3789995.1673   451297    0.01%\n",
      "  81019 10220        cutoff       -3790500.0000 -3790015.7206   463920    0.01%\n",
      "  83325 10350 -3790064.5654    71 -3790500.0000 -3790034.1470   481085    0.01%\n",
      "  85537 10352 -3790301.1661    46 -3790500.0000 -3790057.2542   494657    0.01%\n",
      "  87779 10407 -3790327.2374    54 -3790500.0000 -3790076.1792   509048    0.01%\n",
      "  90198 10456 -3790340.1433    34 -3790500.0000 -3790090.4696   526897    0.01%\n",
      "Elapsed time = 88.69 sec. (42821.82 ticks, tree = 19.34 MB, solutions = 42)\n",
      "2-dimensional DenseAxisArray{Float64,2,...} with index sets:\n"
     ]
    },
    {
     "name": "stdout",
     "output_type": "stream",
     "text": [
      "    Dimension 1, [1, 2, 3, 4, 5, 6, 7, 8, 9, 10  …  88, 89, 90, 91, 92, 93, 94, 95, 96, 97]\n",
      "    Dimension 2, [1, 2, 3]\n",
      "And data, a 97×3 Array{Float64,2}:\n",
      "  0.0                 0.0                     1.0\n",
      "  0.0                 0.0                     0.0\n",
      "  0.0                 0.0                     0.0\n",
      " 15.0                 1.1111049302847675e-9   0.0\n",
      "  0.0                 0.0                     0.0\n",
      " 10.0                 0.0                     0.0\n",
      "  0.0                 0.0                     0.0\n",
      "  0.0                 0.0                     0.0\n",
      "  0.0                 0.0                     0.0\n",
      " 10.0                 0.0                     0.0\n",
      "  0.0                 0.0                     1.0\n",
      "  0.0                 0.0                     1.0\n",
      "  5.0                 0.0                     1.0\n",
      "  7.0                 0.0                     1.0\n",
      "  0.0                 0.0                     0.0\n",
      "  5.0                 0.0                     0.0\n",
      " 42.0                 0.0                     1.999999999931973\n",
      " 22.0                 0.0                     0.0\n",
      "  5.0                 0.0                     1.0\n",
      " 27.0                 0.0                     0.0\n",
      " 27.0                 0.0                     1.0\n",
      " 15.0                 0.0                     2.0000000003448277\n",
      "  0.0                 0.0                     0.0\n",
      "  0.0                 0.0                     2.0\n",
      " 20.0                 0.0                     0.0\n",
      "  0.0                 0.0                     2.0\n",
      " 12.0                 0.0                     0.0\n",
      "  5.0                 0.0                     0.0\n",
      "  0.0                 0.0                     1.0\n",
      " 20.0                 0.0                     0.0\n",
      " 27.0                 0.0                     0.0\n",
      "  0.0                 0.0                     2.0\n",
      "  0.0                 0.0                     0.0\n",
      "  0.0                 0.0                     0.0\n",
      "  0.0                 0.0                     2.0\n",
      "  0.0                 0.0                     0.0\n",
      "  0.0                 0.0                     0.0\n",
      "  0.0                 0.0                     1.0\n",
      "  0.0                 0.0                     2.0\n",
      " 12.000000021308429   0.0                    -1.0657728126741321e-8\n",
      " 15.0                 0.0                     0.0\n",
      " 27.0                 0.0                     2.0\n",
      "  0.0                 0.0                     1.0\n",
      "  7.0                 0.0                     1.0\n",
      " 15.0                 0.0                     0.0\n",
      " 32.0                 0.0                     0.0\n",
      " 27.0                 0.0                     0.0\n",
      " 15.0                 0.0                    -4.291905497666448e-9\n",
      " 37.0                 0.0                     0.0\n",
      " 32.00000000752689    0.0                     0.9999999964707144\n",
      " 27.0                 0.0                     2.0\n",
      "  0.0                 0.0                     0.0\n",
      "  5.0                 0.0                     1.0\n",
      "  0.0                 0.0                     0.0\n",
      " 22.0                 0.0                     1.0\n",
      " 37.0                 0.0                     2.0\n",
      "  9.999999988157706  -9.419643462001958e-11   1.0000000074627349\n",
      " 37.0                 0.0                     2.0\n",
      " 22.0                 0.0                     1.0\n",
      " 30.0                 0.0                     1.6670692823635071e-9\n",
      "  7.0                 0.0                     0.0\n",
      "  0.0                 0.0                     0.0\n",
      "  0.0                 0.0                     1.0\n",
      " 15.0                 0.0                     0.0\n",
      " 10.0                 0.0                     2.0\n",
      " 22.0                 0.0                     0.0\n",
      " 21.999999999999105   0.0                     2.0\n",
      "  0.0                 0.0                     0.0\n",
      "  0.0                 0.0                     0.0\n",
      " 10.0                 0.0                     2.0\n",
      " 12.0                 0.0                     1.0\n",
      "  0.0                 0.0                     1.0\n",
      "  0.0                 0.0                     1.0\n",
      "  0.0                 0.0                     1.0\n",
      "  0.0                 0.0                     0.0\n",
      "  0.0                 0.0                     0.0\n",
      "  0.0                 0.0                     1.0\n",
      "  0.0                 0.0                     0.0\n",
      "  0.0                 0.0                     1.0\n",
      " 52.0                 0.0                     1.0\n",
      " 22.0                 0.0                     0.0\n",
      " 42.0                 0.0                     0.0\n",
      " 17.0                 0.0                     0.0\n",
      " 31.99999999999529    1.985335679163346e-12   2.00000000000037\n",
      " 12.0                 0.0                     0.0\n",
      " 40.0                 0.0                     0.0\n",
      "  0.0                 0.0                     0.0\n",
      "  7.0                 0.0                     0.0\n",
      "  0.0                 0.0                     2.0\n",
      "  5.00000000666668    0.0                     0.0\n",
      " 10.0                 0.0                     0.0\n",
      " 12.0                 0.0                     1.0\n",
      "  5.0                 0.0                     0.0\n",
      " 52.0                 0.0                     2.0\n",
      " 15.0                 0.0                     0.0\n",
      " 12.0                 0.0                     0.0\n",
      " 32.0                 0.0                     0.999999999998766\n",
      "\n",
      "Mixed integer rounding cuts applied:  186\n",
      "Gomory fractional cuts applied:  45\n",
      "\n",
      "Root node processing (before b&c):\n",
      "  Real time             =    0.68 sec. (369.38 ticks)\n",
      "Parallel b&c, 4 threads:\n",
      "  Real time             =   88.08 sec. (42477.45 ticks)\n",
      "  Sync time (average)   =    7.00 sec.\n",
      "  Wait time (average)   =    0.03 sec.\n",
      "                          ------------\n",
      "Total (root+branch&cut) =   88.76 sec. (42846.82 ticks)\n"
     ]
    }
   ],
   "source": [
    "charger_in_hex, x_charger, E_not_supplied, E_supplied, cars_not_supplied, cars_supplied, c_var, obj = charger_siting(\n",
    "    SOC, hexagons, hours, car_kWh, demand_cars, demand_kWh, probability, P, charger_cost, opportunity_cost)\n",
    "\n",
    "\n",
    "\n",
    "println(charger_in_hex)"
   ]
  },
  {
   "cell_type": "code",
   "execution_count": 190,
   "metadata": {},
   "outputs": [
    {
     "data": {
      "text/plain": [
       "-3.790499999996766e6"
      ]
     },
     "execution_count": 190,
     "metadata": {},
     "output_type": "execute_result"
    }
   ],
   "source": [
    "c_var"
   ]
  },
  {
   "cell_type": "code",
   "execution_count": 180,
   "metadata": {},
   "outputs": [
    {
     "ename": "LoadError",
     "evalue": "syntax: extra token \"CVAR\" after end of expression",
     "output_type": "error",
     "traceback": [
      "syntax: extra token \"CVAR\" after end of expression",
      "",
      "Stacktrace:",
      " [1] top-level scope at In[180]:1",
      " [2] include_string(::Function, ::Module, ::String, ::String) at ./loading.jl:1091"
     ]
    }
   ],
   "source": [
    "-3787079/ Null CVAR"
   ]
  },
  {
   "cell_type": "code",
   "execution_count": null,
   "metadata": {},
   "outputs": [],
   "source": [
    "# CVAR (alpha 0.7)\n",
    "-3790500/-3790500"
   ]
  }
 ],
 "metadata": {
  "kernelspec": {
   "display_name": "Julia 1.5.2",
   "language": "julia",
   "name": "julia-1.5"
  },
  "language_info": {
   "file_extension": ".jl",
   "mimetype": "application/julia",
   "name": "julia",
   "version": "1.5.2"
  }
 },
 "nbformat": 4,
 "nbformat_minor": 4
}
