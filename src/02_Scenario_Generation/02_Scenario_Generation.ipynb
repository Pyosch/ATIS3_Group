{
 "cells": [
  {
   "cell_type": "code",
   "execution_count": 63,
   "metadata": {},
   "outputs": [],
   "source": [
    "import pandas as pd\n",
    "from h3 import h3\n",
    "import glob\n",
    "import numpy as np\n",
    "from pandas import merge\n",
    "import json\n",
    "import geopandas as gpd\n",
    "import matplotlib.pyplot as plt\n",
    "from shapely.geometry import shape\n",
    "from datetime import datetime, timedelta\n",
    "import seaborn as sns"
   ]
  },
  {
   "cell_type": "code",
   "execution_count": 64,
   "metadata": {},
   "outputs": [
    {
     "name": "stderr",
     "output_type": "stream",
     "text": [
      "/Users/demircanm/opt/anaconda3/lib/python3.7/site-packages/IPython/core/interactiveshell.py:3058: DtypeWarning: Columns (20) have mixed types. Specify dtype option on import or set low_memory=False.\n",
      "  interactivity=interactivity, compiler=compiler, result=result)\n"
     ]
    }
   ],
   "source": [
    "import pandas as pd\n",
    "pd.set_option('display.max_columns', None)\n",
    "import numpy as np\n",
    "\n",
    "# Datei einlesen\n",
    "supply_at_midnight = pd.read_csv('/Users/demircanm/sciebo/IS3/Research_Projects/ATIS3-Group/01 Data/sharenow_supply_data_6mo.csv')\n",
    "\n",
    "# Config\n",
    "HEX_RES = 7  # Hexagon Auflösung (siehe uber h3 library)\n",
    "MIN_CHARGE_LEVEL = 50 # Wenn SoC unter 50% => Auto muss geladen werden\n",
    "\n",
    "# 1. Wir bauen ein Dataframe, um alle möglichen Hexagon und Datum Kombinationen zu ermitteln. \n",
    "all_hexagons = pd.DataFrame(supply_at_midnight[\"hex_end_{}\".format(HEX_RES)].unique(), columns=[\"hex_end_{}\".format(HEX_RES)])\n",
    "all_dates = pd.DataFrame(supply_at_midnight[\"date_start\"].unique(), columns=[\"date_start\"])\n",
    "\n",
    "all_hexagons[\"key\"] = 1\n",
    "all_dates[\"key\"] = 1\n",
    "\n",
    "template = pd.merge(all_hexagons, all_dates, on=[\"key\"])\n",
    "\n",
    "template.drop(columns={\"key\"}, inplace=True)\n",
    "\n",
    "# 2. In jedem Hexagon für jeden Tag ermitteln wir die Anzahl der Fahrzeuge, die gelanden werden müssen zum Stichzeitpunkt (00.00h)\n",
    "low_charge_vehicles = supply_at_midnight[supply_at_midnight[\"fuel_end\"]<MIN_CHARGE_LEVEL].groupby([\"date_start\", \"hex_end_{}\".format(HEX_RES)])[\"id\"].count().reset_index()\n",
    "\n",
    "# 3. Wir verschmelzen das Template Data Frame mit den tatsächlichen zu ladenden Fahrzeugen pro Hexagon x Datum\n",
    "result = pd.merge(template, low_charge_vehicles, on = [\"hex_end_7\", \"date_start\"], how=\"left\")\n",
    "\n",
    "# Hexagon Datum Kombinationen, wo es keine Fahrzeuge gibt, die man laden muss, setzen wir auf 0.\n",
    "# Hätten wir dieses \"template\" Dataframe nicht, könnten wir die \"0\" Fälle nicht ermitteln.\n",
    "result.fillna(0, inplace=True)\n",
    "\n",
    "# Spaltenname aussagekräftiger machen\n",
    "result = result.rename(columns={\"id\":\"number_of_low_soc_vehicle\"})\n",
    "\n",
    "\n",
    "# Ab hier Szenarien bestimmen..."
   ]
  },
  {
   "cell_type": "markdown",
   "metadata": {},
   "source": [
    "# 2 Calculate Distribution"
   ]
  },
  {
   "cell_type": "code",
   "execution_count": 85,
   "metadata": {},
   "outputs": [],
   "source": [
    "# We estimate a Multinomial Distribution\n",
    "# Calculate Fleet Size per day (n_{k})\n",
    "fleet_sizes_per_day = result.groupby([\"date_start\"]).agg({\"number_of_low_soc_vehicle\":\"sum\"}).reset_index()\n",
    "fleet_sizes_per_day = fleet_sizes_per_day.rename(columns={\"number_of_low_soc_vehicle\":\"total_number_of_low_soc_vehicle\"})\n",
    "\n",
    "# Sum_k^K n_{k} \n",
    "fleet_size_overall = fleet_sizes_per_day[[\"total_number_of_low_soc_vehicle\"]].sum(axis=0)[\"total_number_of_low_soc_vehicle\"]\n"
   ]
  },
  {
   "cell_type": "markdown",
   "metadata": {},
   "source": [
    "## 2.1 Supply Generation "
   ]
  },
  {
   "cell_type": "code",
   "execution_count": 66,
   "metadata": {},
   "outputs": [],
   "source": [
    "# p_i for low battery vehicles for multinomial distribution\n",
    "low_soc_vehicles_coefficients = (result.groupby([\"hex_end_{}\".format(HEX_RES)]).agg({\"number_of_low_soc_vehicle\":\"sum\"})/fleet_size_overall).reset_index()\n",
    "low_soc_vehicles_coefficients.rename(columns={\"number_of_low_soc_vehicle\":\"prob\"}, inplace=True)\n",
    "\n",
    "# Sort Values\n",
    "low_soc_vehicles_coefficients = low_soc_vehicles_coefficients.sort_values(by=[\"hex_end_{}\".format(HEX_RES)])\n",
    "\n",
    "# Convert Probabilities to Numpy Array\n",
    "low_soc_vehicles_prob_array = low_soc_vehicles_coefficients[\"prob\"].to_numpy()\n"
   ]
  },
  {
   "cell_type": "markdown",
   "metadata": {},
   "source": [
    "## 2.2. Sample Scenarios"
   ]
  },
  {
   "cell_type": "code",
   "execution_count": 88,
   "metadata": {},
   "outputs": [],
   "source": [
    "# Example \n",
    "low_soc_vehicle_sample = np.random.multinomial(1000, low_soc_vehicles_prob_array) # No of vehicles to be charged"
   ]
  },
  {
   "cell_type": "code",
   "execution_count": 89,
   "metadata": {},
   "outputs": [],
   "source": [
    "NO_HEXAGONS = low_soc_vehicle_sample.shape[0]"
   ]
  },
  {
   "cell_type": "code",
   "execution_count": 90,
   "metadata": {},
   "outputs": [],
   "source": [
    "# This is the sorting we are using for the coefficients \n",
    "SORTED_HEXAGONS = low_soc_vehicles_coefficients[\"hex_end_{}\".format(HEX_RES)]"
   ]
  },
  {
   "cell_type": "code",
   "execution_count": 91,
   "metadata": {},
   "outputs": [],
   "source": [
    "NO_SCENARIOS = 1000\n",
    "\n",
    "scenarios = np.empty(shape=[NO_SCENARIOS, NO_HEXAGONS])"
   ]
  },
  {
   "cell_type": "code",
   "execution_count": 94,
   "metadata": {},
   "outputs": [],
   "source": [
    "# Generate the number of vehicles to be charged\n",
    "# MLE for poisson distribution \n",
    "# MLE Estimator = 1/n * Sum D_t (Di demand at day t, n = 145 Days) (average demand per day)\n",
    "poisson_mle_vehicles = fleet_sizes_per_day[\"total_number_of_low_soc_vehicle\"].mean()\n",
    "\n",
    "np.random.seed(seed=123)\n",
    "NO_OF_VEHICLES_TO_BE_CHARGED = np.random.poisson(poisson_mle_vehicles, NO_SCENARIOS)"
   ]
  },
  {
   "cell_type": "code",
   "execution_count": 95,
   "metadata": {},
   "outputs": [],
   "source": [
    "for i in range(0, NO_SCENARIOS):\n",
    "    low_soc_vehicle_sample = np.random.multinomial(NO_OF_VEHICLES_TO_BE_CHARGED[i], low_soc_vehicles_prob_array)\n",
    "    scenarios[i] = low_soc_vehicle_sample"
   ]
  },
  {
   "cell_type": "markdown",
   "metadata": {},
   "source": [
    "### 2.2.1 Clustering"
   ]
  },
  {
   "cell_type": "code",
   "execution_count": 34,
   "metadata": {},
   "outputs": [],
   "source": [
    "from sklearn.cluster import KMeans\n",
    "\n",
    "km = KMeans(\n",
    "    n_clusters=3, init='random',\n",
    "    n_init=10, max_iter=300, \n",
    "    tol=1e-04, random_state=0\n",
    ")\n",
    "y_km = km.fit_predict(scenarios)\n"
   ]
  },
  {
   "cell_type": "markdown",
   "metadata": {},
   "source": [
    "### 2.2.2. Identification of Clusters "
   ]
  },
  {
   "cell_type": "code",
   "execution_count": 10,
   "metadata": {},
   "outputs": [
    {
     "data": {
      "image/png": "[encoded data removed]",
      "text/plain": [
       "<Figure size 432x288 with 1 Axes>"
      ]
     },
     "metadata": {
      "needs_background": "light"
     },
     "output_type": "display_data"
    }
   ],
   "source": [
    "from sklearn.cluster import KMeans\n",
    "# calculate distortion for a range of number of cluster\n",
    "NO_CLUSTER = 15\n",
    "distortions = []\n",
    "for i in range(1, NO_CLUSTER):\n",
    "    km = KMeans(\n",
    "        n_clusters=i, init='k-means++',\n",
    "        n_init=10, max_iter=300,\n",
    "        tol=1e-04, random_state=0\n",
    "    )\n",
    "    km.fit(scenarios)\n",
    "    distortions.append(km.inertia_)\n",
    "\n",
    "# plot\n",
    "plt.plot(range(1, NO_CLUSTER), distortions, marker='o')\n",
    "plt.xlabel('Number of clusters')\n",
    "plt.ylabel('Distortion')\n",
    "plt.show()"
   ]
  },
  {
   "cell_type": "markdown",
   "metadata": {},
   "source": [
    "### 2.2.2.1. K-Medoids Clusterings "
   ]
  },
  {
   "cell_type": "code",
   "execution_count": 96,
   "metadata": {},
   "outputs": [
    {
     "data": {
      "image/png": "[encoded data removed]",
      "text/plain": [
       "<Figure size 432x288 with 1 Axes>"
      ]
     },
     "metadata": {
      "needs_background": "light"
     },
     "output_type": "display_data"
    }
   ],
   "source": [
    "from sklearn_extra.cluster import KMedoids\n",
    "# calculate distortion for a range of number of cluster\n",
    "NO_CLUSTER = 15\n",
    "distortions = []\n",
    "for i in range(1, NO_CLUSTER):\n",
    "    kmedoids = KMedoids(n_clusters=i, init='k-medoids++', random_state = 0).fit(scenarios)\n",
    "    distortions.append(kmedoids.inertia_)\n",
    "\n",
    "# plot\n",
    "plt.plot(range(1, NO_CLUSTER), distortions, marker='o')\n",
    "plt.xlabel('Number of clusters')\n",
    "plt.ylabel('Distortion')\n",
    "plt.show()\n"
   ]
  },
  {
   "cell_type": "markdown",
   "metadata": {},
   "source": [
    "### 2.2.3. Alternative Strategy using real world data as scenarios"
   ]
  },
  {
   "cell_type": "code",
   "execution_count": 76,
   "metadata": {},
   "outputs": [],
   "source": [
    "from sklearn_extra.cluster import KMedoids\n",
    "# Use Real World Data to Reduce Scenario\n",
    "days = result[\"date_start\"].unique()\n",
    "days.sort()\n",
    "\n",
    "NO_RL_SCENARIOS = days.shape[0]\n",
    "\n",
    "real_scenarios = np.empty(shape=[NO_RL_SCENARIOS, NO_HEXAGONS])\n",
    "\n",
    "idx = 0\n",
    "for day in days:\n",
    "    supply_at_day = result[result[\"date_start\"] == day].sort_values(by=[\"hex_end_{}\".format(HEX_RES)])\n",
    "    supply_arr = supply_at_day[\"number_of_low_soc_vehicle\"].to_numpy()\n",
    "    real_scenarios[idx] = supply_arr\n",
    "    idx += 1"
   ]
  },
  {
   "cell_type": "code",
   "execution_count": 77,
   "metadata": {},
   "outputs": [
    {
     "data": {
      "image/png": "[encoded data removed]",
      "text/plain": [
       "<Figure size 432x288 with 1 Axes>"
      ]
     },
     "metadata": {
      "needs_background": "light"
     },
     "output_type": "display_data"
    }
   ],
   "source": [
    "# calculate distortion for a range of number of cluster\n",
    "NO_CLUSTER = 10\n",
    "distortions = []\n",
    "for i in range(1, NO_CLUSTER):\n",
    "    kmedoids = KMedoids(n_clusters=i, init='k-medoids++', random_state=0).fit(real_scenarios)\n",
    "    distortions.append(kmedoids.inertia_)\n",
    "\n",
    "# plot\n",
    "plt.plot(range(1, NO_CLUSTER), distortions, marker='o')\n",
    "plt.xlabel('Number of clusters')\n",
    "plt.ylabel('Distortion')\n",
    "plt.show()"
   ]
  },
  {
   "cell_type": "markdown",
   "metadata": {},
   "source": [
    "## 2.3. Scenario Extraction"
   ]
  },
  {
   "cell_type": "markdown",
   "metadata": {},
   "source": [
    "### 2.3.1. Extraction from Generated Scenarios "
   ]
  },
  {
   "cell_type": "code",
   "execution_count": 97,
   "metadata": {},
   "outputs": [],
   "source": [
    "kmedoids = KMedoids(n_clusters= 6, init='k-medoids++', random_state = 0).fit(scenarios)"
   ]
  },
  {
   "cell_type": "code",
   "execution_count": 98,
   "metadata": {},
   "outputs": [
    {
     "data": {
      "text/plain": [
       "array([[ 1.,  1.,  0.,  7.,  0.,  3.,  0.,  0.,  0.,  4.,  0.,  0.,  0.,\n",
       "         7.,  0.,  3., 21., 10.,  4., 19., 18.,  7.,  0.,  1.,  8.,  0.,\n",
       "         8.,  1.,  0.,  8.,  8.,  1.,  0.,  0.,  0.,  0.,  0.,  1.,  2.,\n",
       "         2.,  5., 16.,  0.,  0.,  8., 13.,  9.,  9., 18., 16., 12.,  0.,\n",
       "         1.,  0., 10., 17.,  3., 14., 14., 13.,  3.,  0.,  0.,  7.,  9.,\n",
       "        12., 12.,  0.,  0.,  7.,  8.,  0.,  1.,  1.,  0.,  0.,  1.,  0.,\n",
       "         2., 25., 12., 22.,  9., 24.,  4., 23.,  0.,  5.,  1.,  1.,  5.,\n",
       "         7.,  1., 22.,  4.,  3., 14.],\n",
       "       [ 1.,  0.,  0.,  6.,  0.,  3.,  0.,  0.,  0.,  5.,  0.,  0.,  5.,\n",
       "         4.,  0.,  5., 26.,  7.,  4., 20., 23.,  3.,  0.,  4.,  6.,  1.,\n",
       "         9.,  0.,  3., 11., 12.,  0.,  0.,  0.,  0.,  0.,  0.,  0.,  2.,\n",
       "         3.,  8., 15.,  1.,  2.,  9., 16., 18., 13., 14., 16., 13.,  0.,\n",
       "         0.,  0., 12., 24.,  6., 17.,  6., 17.,  1.,  0.,  0.,  6.,  8.,\n",
       "         6., 12.,  0.,  0.,  8.,  8.,  0.,  1.,  2.,  0.,  0.,  1.,  0.,\n",
       "         1., 28., 10., 27.,  9., 21.,  6., 21.,  0.,  3.,  0.,  1.,  4.,\n",
       "         2.,  2., 25.,  6.,  6., 12.],\n",
       "       [ 0.,  0.,  0.,  5.,  0.,  4.,  0.,  0.,  0.,  3.,  0.,  0.,  4.,\n",
       "         2.,  0.,  4., 21.,  9.,  2., 12., 19.,  6.,  0.,  1.,  9.,  5.,\n",
       "        10.,  0.,  2., 10., 14.,  0.,  0.,  0.,  0.,  0.,  0.,  0.,  4.,\n",
       "         5.,  9., 11.,  0.,  1., 10., 20., 11., 10., 19., 12., 10.,  0.,\n",
       "         2.,  0., 12., 26.,  3., 12.,  9., 14.,  2.,  1.,  0.,  9., 10.,\n",
       "        11.,  6.,  0.,  0.,  6.,  5.,  0.,  0.,  1.,  0.,  0.,  2.,  0.,\n",
       "         3., 29.,  9., 15.,  7., 16.,  4., 18.,  0.,  4.,  1.,  0.,  1.,\n",
       "         4.,  1., 26.,  8.,  4., 16.],\n",
       "       [ 1.,  1.,  0., 11.,  0.,  5.,  0.,  0.,  0.,  5.,  0.,  1.,  0.,\n",
       "         2.,  0.,  5., 23.,  8.,  6., 16., 18.,  8.,  0.,  1.,  6.,  2.,\n",
       "         7.,  0.,  0., 11., 14.,  0.,  0.,  0.,  2.,  0.,  0.,  0.,  0.,\n",
       "         2.,  8., 15.,  1.,  1.,  9., 21., 13., 12., 11., 17., 17.,  0.,\n",
       "         1.,  0.,  8., 18.,  8., 18.,  9., 13.,  1.,  0.,  0.,  6.,  4.,\n",
       "         8.,  9.,  0.,  0.,  6.,  4.,  0.,  2.,  0.,  0.,  0.,  0.,  0.,\n",
       "         2., 29., 10., 25.,  7., 15.,  9., 25.,  0.,  3.,  0.,  0.,  5.,\n",
       "         2.,  2., 24.,  8.,  3., 13.],\n",
       "       [ 0.,  0.,  0.,  7.,  0.,  6.,  0.,  0.,  0.,  6.,  0.,  1.,  1.,\n",
       "         7.,  0.,  2., 20., 10.,  5., 20., 17.,  7.,  0.,  2.,  5.,  1.,\n",
       "         4.,  0.,  0., 10., 16.,  1.,  0.,  0.,  0.,  0.,  0.,  0.,  1.,\n",
       "         1.,  9.,  9.,  1.,  1.,  7., 19.,  6.,  5., 19., 18., 13.,  1.,\n",
       "         0.,  0.,  5., 15., 10., 15.,  9., 16.,  1.,  0.,  0.,  3.,  3.,\n",
       "         5.,  9.,  0.,  0.,  8.,  7.,  0.,  1.,  1.,  0.,  0.,  0.,  0.,\n",
       "         0., 31., 11., 18.,  8., 16.,  8., 18.,  0.,  5.,  1.,  1.,  3.,\n",
       "         8.,  2., 21.,  8.,  3., 13.],\n",
       "       [ 0.,  0.,  0.,  8.,  0.,  4.,  0.,  0.,  0.,  2.,  0.,  0.,  5.,\n",
       "         3.,  0.,  5., 22., 12.,  5., 13., 21.,  8.,  0.,  0., 11.,  2.,\n",
       "         7.,  1.,  3.,  9., 13.,  0.,  0.,  0.,  1.,  0.,  0.,  0.,  1.,\n",
       "         4.,  8., 11.,  1.,  2.,  7., 19., 13., 12., 15., 16., 14.,  0.,\n",
       "         2.,  0., 12., 22.,  4., 16.,  9., 18.,  3.,  0.,  0.,  7.,  6.,\n",
       "         5., 15.,  0.,  0.,  9.,  3.,  0.,  0.,  1.,  0.,  0.,  0.,  0.,\n",
       "         3., 30., 11., 22.,  9., 19., 10., 19.,  0.,  4.,  1.,  1.,  1.,\n",
       "         6.,  2., 27.,  7.,  5., 19.]])"
      ]
     },
     "execution_count": 98,
     "metadata": {},
     "output_type": "execute_result"
    }
   ],
   "source": [
    "# Access with index 0-3\n",
    "kmedoids.cluster_centers_"
   ]
  },
  {
   "cell_type": "code",
   "execution_count": 99,
   "metadata": {},
   "outputs": [],
   "source": [
    "# Assignment of scenarios to clusters\n",
    "prediction = kmedoids.predict(scenarios)"
   ]
  },
  {
   "cell_type": "code",
   "execution_count": 100,
   "metadata": {},
   "outputs": [
    {
     "data": {
      "text/plain": [
       "{0: 0.147, 1: 0.097, 2: 0.082, 3: 0.235, 4: 0.066, 5: 0.373}"
      ]
     },
     "execution_count": 100,
     "metadata": {},
     "output_type": "execute_result"
    }
   ],
   "source": [
    "unique, counts = np.unique(prediction, return_counts=True)\n",
    "N = sum(counts)\n",
    "dict(zip(unique, counts/N))"
   ]
  },
  {
   "cell_type": "code",
   "execution_count": 102,
   "metadata": {},
   "outputs": [],
   "source": [
    "df_multinomial = pd.DataFrame(kmedoids.cluster_centers_, columns=SORTED_HEXAGONS)\n",
    "df_multinomial[\"probs\"] = counts/N\n",
    "df_multinomial.to_csv(\"scenarios_multinomial.csv\",index=False)"
   ]
  },
  {
   "cell_type": "markdown",
   "metadata": {},
   "source": [
    "### 2.3.2. Extraction from Real World Data"
   ]
  },
  {
   "cell_type": "code",
   "execution_count": 137,
   "metadata": {},
   "outputs": [],
   "source": [
    "kmedoids_real_scenario = KMedoids(n_clusters=4, init='k-medoids++', random_state=0).fit(real_scenarios)"
   ]
  },
  {
   "cell_type": "code",
   "execution_count": 143,
   "metadata": {},
   "outputs": [
    {
     "data": {
      "text/plain": [
       "array([0., 0., 0., 0., 0., 0., 0., 0., 0., 0., 0., 0., 0., 0., 0., 0., 1.,\n",
       "       1., 0., 0., 0., 0., 0., 0., 0., 0., 0., 0., 0., 0., 0., 0., 0., 0.,\n",
       "       0., 0., 0., 0., 0., 0., 0., 1., 0., 0., 0., 0., 0., 0., 0., 0., 0.,\n",
       "       0., 0., 0., 0., 0., 0., 0., 0., 0., 0., 0., 0., 1., 0., 0., 0., 0.,\n",
       "       0., 1., 0., 0., 0., 1., 0., 0., 1., 0., 0., 1., 0., 0., 0., 0., 0.,\n",
       "       0., 0., 0., 0., 0., 0., 0., 0., 0., 0., 0., 0.])"
      ]
     },
     "execution_count": 143,
     "metadata": {},
     "output_type": "execute_result"
    }
   ],
   "source": [
    "# Access with index 0-3\n",
    "kmedoids_real_scenario.cluster_centers_"
   ]
  },
  {
   "cell_type": "code",
   "execution_count": 144,
   "metadata": {},
   "outputs": [],
   "source": [
    "# Assignment of scenarios to clusters\n",
    "prediction_real_scenario = kmedoids_real_scenario.predict(real_scenarios)"
   ]
  },
  {
   "cell_type": "code",
   "execution_count": 145,
   "metadata": {},
   "outputs": [
    {
     "data": {
      "text/plain": [
       "array([1, 1, 1, 3, 3, 3, 1, 1, 1, 1, 3, 3, 3, 1, 1, 1, 1, 3, 3, 1, 1, 1,\n",
       "       1, 1, 3, 3, 1, 1, 1, 1, 3, 3, 3, 3, 1, 1, 1, 1, 3, 3, 1, 1, 1, 2,\n",
       "       1, 3, 3, 1, 2, 1, 2, 1, 3, 3, 1, 1, 2, 2, 2, 3, 3, 1, 1, 1, 2, 1,\n",
       "       3, 3, 1, 1, 2, 1, 1, 3, 3, 2, 1, 1, 2, 1, 3, 3, 2, 2, 2, 2, 2, 3,\n",
       "       3, 3, 3, 3, 3, 1, 3, 3, 1, 1, 2, 1, 1, 1, 3, 1, 1, 0, 2, 3, 2, 2,\n",
       "       2, 2, 2, 1, 3, 1, 1, 2, 2, 2, 2, 3, 1, 2, 2, 2, 2, 2, 3, 2, 2, 2,\n",
       "       2, 2, 3, 3, 2, 2, 2, 2, 1, 2, 3, 3, 1, 2, 2, 2, 3, 3, 2, 1, 2, 2,\n",
       "       2, 3, 3, 1, 1, 1, 2, 2, 1, 1, 1, 1, 2, 2, 2, 2, 2, 2, 0])"
      ]
     },
     "execution_count": 145,
     "metadata": {},
     "output_type": "execute_result"
    }
   ],
   "source": [
    "prediction_real_scenario"
   ]
  },
  {
   "cell_type": "code",
   "execution_count": 152,
   "metadata": {},
   "outputs": [
    {
     "data": {
      "text/plain": [
       "{0: 0.011560693641618497,\n",
       " 1: 0.3815028901734104,\n",
       " 2: 0.3236994219653179,\n",
       " 3: 0.2832369942196532}"
      ]
     },
     "execution_count": 152,
     "metadata": {},
     "output_type": "execute_result"
    }
   ],
   "source": [
    "unique, counts = np.unique(prediction_real_scenario, return_counts=True)\n",
    "N = sum(counts)\n",
    "dict(zip(unique, counts/N))"
   ]
  }
 ],
 "metadata": {
  "kernelspec": {
   "display_name": "Python 3",
   "language": "python",
   "name": "python3"
  },
  "language_info": {
   "codemirror_mode": {
    "name": "ipython",
    "version": 3
   },
   "file_extension": ".py",
   "mimetype": "text/x-python",
   "name": "python",
   "nbconvert_exporter": "python",
   "pygments_lexer": "ipython3",
   "version": "3.7.4"
  }
 },
 "nbformat": 4,
 "nbformat_minor": 2
}
