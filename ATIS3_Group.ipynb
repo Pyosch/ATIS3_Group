{
 "cells": [
  {
   "cell_type": "code",
   "execution_count": 1,
   "metadata": {},
   "outputs": [
    {
     "name": "stderr",
     "output_type": "stream",
     "text": [
      "\u001b[32m\u001b[1m Activating\u001b[22m\u001b[39m environment at `D:\\ATIS3\\Project.toml`\n"
     ]
    }
   ],
   "source": [
    "using Pkg\n",
    "Pkg.activate(\"D://ATIS3//Project.toml\") # change path \n",
    "Pkg.instantiate()"
   ]
  },
  {
   "cell_type": "code",
   "execution_count": 2,
   "metadata": {},
   "outputs": [],
   "source": [
    "using JuMP, LinearAlgebra, Plots, StatsPlots, CPLEX, Statistics, CSV, DataFrames"
   ]
  },
  {
   "cell_type": "code",
   "execution_count": 11,
   "metadata": {},
   "outputs": [
    {
     "data": {
      "text/plain": [
       "0"
      ]
     },
     "execution_count": 11,
     "metadata": {},
     "output_type": "execute_result"
    }
   ],
   "source": [
    "#read scenario data\n",
    "scenarios_hexagons = CSV.read(\"scenarios_multinomial.csv\", DataFrame)\n",
    "scenarios_prices = CSV.read(\"priceScenarions3.csv\", DataFrame)\n",
    "\n",
    "SOC = 0.33\n",
    "hexagons = names(scenarios_hexagons)[1:length(names(scenarios_hexagons))-1] # vector of hexagons (strings)\n",
    "hours = names(scenarios_prices)[3:length(names(scenarios_prices))] #vector of hours for charging (strings)\n",
    "car_kWh = 30 # capacity of each car\n",
    "\n",
    "#demand mxn (m=hexagon, n=scenario) in kWh summe über car*max_kWh*(1-SOC)\n",
    "demand_cars = transpose(convert(Matrix,scenarios_hexagons[:,hexagons]))\n",
    "demand_kWh = demand_cars.*car_kWh.*(1-SOC)\n",
    "\n",
    "#prices mxn (m=hours, n=scenario)\n",
    "prices = transpose(convert(Matrix,scenarios_prices[:,hours]))\n",
    "\n",
    "probability_hexagons = transpose(scenarios_hexagons.probs) # probabilities for each scenario (#cars per hexagon)\n",
    "probability_prices = transpose(scenarios_prices.Probability) # probabilities for each scenario (timeseries prices)\n",
    "\n",
    "P = [3.7, 11, 22] # different charger types in kW\n",
    "charger_cost_fix = [1500, 1700, 1900] # investment cost for charger 3 kW, 7 kW und 11 kW in €\n",
    "charger_cost_annuity = charger_cost_fix./(5*365)\n",
    "charger_cost = charger_cost_annuity./P # investment cost for charger 3 kW, 7 kW und 11 kW in €/kW\n",
    "opportunity_cost = 0 # cost of demand not served\n",
    "\n",
    "alpha = 0.05\n",
    "beta = 0"
   ]
  },
  {
   "cell_type": "markdown",
   "metadata": {},
   "source": [
    "## Build the scenario tree"
   ]
  },
  {
   "cell_type": "code",
   "execution_count": 16,
   "metadata": {},
   "outputs": [
    {
     "data": {
      "text/plain": [
       "7×1764 Array{Float64,2}:\n",
       " 44.56  27.87  37.63  17.39  50.0   …  37.63  17.39  50.0   42.96  55.74\n",
       " 42.6   27.01  36.36  16.51  46.63     36.36  16.51  46.63  41.7   53.83\n",
       " 39.23  19.8   31.57   4.02  39.28     31.57   4.02  39.28  36.77  49.34\n",
       " 37.51   0.4   32.02  31.44  30.8      32.02  31.44  30.8   17.65  44.87\n",
       " 37.18  -2.99  30.1   25.66  30.23     30.1   25.66  30.23  12.86  48.07\n",
       " 36.54  -5.19  29.05  24.05  29.87  …  29.05  24.05  29.87  14.27  47.49\n",
       " 35.78  -7.45  28.04  24.11  28.71     28.04  24.11  28.71  14.45  44.59"
      ]
     },
     "execution_count": 16,
     "metadata": {},
     "output_type": "execute_result"
    }
   ],
   "source": [
    "## Build Probabilities\n",
    "comb_probability = []\n",
    "for prob_d in probability_hexagons\n",
    "    for prob_p in probability_prices\n",
    "        push!(comb_probability,prob_d*prob_p)\n",
    "    end\n",
    "end\n",
    "\n",
    "## Build Demand kWh and Demand Cars\n",
    "num_hex = size(demand_kWh,1)\n",
    "num_Scen_Dem = size(demand_kWh,2)\n",
    "num_Scen_Pri = size(prices,2)\n",
    "\n",
    "comb_demand_kWh = zeros((num_hex, num_Scen_Dem*num_Scen_Pri))\n",
    "comb_demand_cars = zeros((num_hex, num_Scen_Dem*num_Scen_Pri))\n",
    "counter = 0\n",
    "\n",
    "for num_d in 1:num_Scen_Dem\n",
    "    for num_p in 1:num_Scen_Pri\n",
    "        counter += 1\n",
    "        comb_demand_kWh[1:num_hex,counter] = demand_kWh[1:num_hex,num_d]\n",
    "        comb_demand_cars[1:num_hex,counter] = demand_cars[1:num_hex,num_d]\n",
    "    end\n",
    "end\n",
    "\n",
    "## Build Prices\n",
    "num_Scen_Dem = size(demand_kWh,2)\n",
    "num_Scen_Pri = size(prices,2)\n",
    "\n",
    "comb_prices = zeros((length(hours), num_Scen_Dem*num_Scen_Pri))\n",
    "counter = 0\n",
    "\n",
    "for num_d in 1:num_Scen_Dem\n",
    "    for num_p in 1:num_Scen_Pri\n",
    "        counter += 1\n",
    "        comb_prices[:,counter] = prices[1:length(hours),num_p]\n",
    "    end\n",
    "end\n",
    "\n",
    "probability = convert(Array{Float64,1}, comb_probability)\n",
    "demand_kWh = comb_demand_kWh\n",
    "demand_cars = comb_demand_cars\n",
    "prices = comb_prices\n"
   ]
  },
  {
   "cell_type": "code",
   "execution_count": 17,
   "metadata": {
    "scrolled": true
   },
   "outputs": [
    {
     "data": {
      "text/plain": [
       "charger_siting (generic function with 1 method)"
      ]
     },
     "execution_count": 17,
     "metadata": {},
     "output_type": "execute_result"
    }
   ],
   "source": [
    "function charger_siting(SOC, hexagons, hours, car_kWh, demand_cars, demand_kWh, prices, \n",
    "        probability, P, charger_cost, opportunity_cost, alpha, beta)\n",
    "    \n",
    "    # Define Sets\n",
    "    Γ = Array{Int}(1:length(hexagons)) # Gamma, Set with hexagons\n",
    "    Σ = Array{Int}(1:length(P)) # Sigma, Set with charger types \n",
    "    Ω = Array{Int}(1:length(probability)) # Omega, Set with scenarios\n",
    "    Τ = Array{Int}(1:length(hours)) # Lambda, Set with scenarios for prices\n",
    "\n",
    "    # Initialize model    \n",
    "    m = Model(CPLEX.Optimizer)\n",
    "    \n",
    "    # η\n",
    "    @variable(m, η) \n",
    "    @variable(m, 0 <= s[k=Ω])\n",
    "    β = beta # \n",
    "    α = alpha\n",
    "    \n",
    "    # Define variables\n",
    "    @variable(m, 0 <= x_charger[i=Γ,j=Σ],Int) # number of specific charger type in each hexagon\n",
    "    @variable(m, 0 <= E_supplied[i=Γ,j=Σ,k=Ω,t=Τ]) # supplied energy in each hexagon kWh\n",
    "    @variable(m, 0 <= E_not_supplied[i=Γ,k=Ω])     # demand not covered kWh\n",
    "    @variable(m, 0 <= cars_supplied[i=Γ,j=Σ,k=Ω],Int)\n",
    "    @variable(m, 0 <= cars_not_supplied[i=Γ,j=Σ,k=Ω],Int)\n",
    "\n",
    "    # expressions for total costs\n",
    "    @expression(m, invest_cost[i=Γ,j=Σ], charger_cost[j].*x_charger[i,j].*P[j]) # first stage investment cost\n",
    "    @expression(m, charging_opportunity_cost[i=Γ,k=Ω], opportunity_cost.*E_not_supplied[i,k].*probability[k])\n",
    "    # @expression(m, grid_usage[i=Γ,k=Ω,t=Τ], 0.1*sum(E_supplied[i,j,k,t] for j in Σ)^(2).*probability[k])\n",
    "    @expression(m, grid_usage[i=Γ,k=Ω,t=Τ], 0.1*sum(E_supplied[i,j,k,t] for j in Σ).*probability[k])\n",
    "    @expression(m, charging_cost[i=Γ,j=Σ,k=Ω,t=Τ], prices[t,k].*E_supplied[i,j,k,t].*probability[k]) #minimize cost of charging\n",
    "    \n",
    "    # expressions for objective function\n",
    "    @expression(m, total_cost, (-1)*(sum(invest_cost) + sum(charging_cost)\n",
    "                                   + sum(charging_opportunity_cost) + sum(grid_usage)))\n",
    "    @expression(m, cVAR, η-(1/(1-α) * dot(probability, s)))\n",
    "    @objective(m, Max, (1-β)*total_cost + β*cVAR)\n",
    "    \n",
    "    # Constraints\n",
    "    # Eq. Balance equation: Demand in each hexagon has to equal demand. Loss of load is possible\n",
    "    @constraint(m, eq_balance[i=Γ,k=Ω], sum(sum(E_supplied[i,j,k,t] for j in Σ) for t in Τ) + E_not_supplied[i,k] == demand_kWh[i,k])\n",
    "\n",
    "    # Eq. energy limit: rated_power*chargingtime must not exeed energy\n",
    "    @constraint(m, eq_cap[i=Γ,j=Σ,k=Ω,t=Τ], E_supplied[i,j,k,t] <= x_charger[i,j].*P[j])\n",
    "\n",
    "    # Eq. supplied cars and not supplied cars have to equal amount of cars in each hexagon\n",
    "    @constraint(m, eq_cars_supplied[i=Γ,j=Σ,k=Ω], sum(cars_supplied[i,j,k] for j in Σ) \n",
    "                                                    + sum(cars_not_supplied[i,j,k] for j in Σ)\n",
    "                                                   == demand_cars[i,k])\n",
    "\n",
    "    # Eq. maximum one car per charging station\n",
    "    @constraint(m, eq_max_cars[i=Γ,j=Σ,k=Ω], cars_supplied[i,j,k] <= x_charger[i,j])\n",
    "\n",
    "    # Eq. \n",
    "    @constraint(m, eq_max_supply[i=Γ,j=Σ,k=Ω], sum(E_supplied[i,j,k,t] for t in Τ) <= cars_supplied[i,j,k].*car_kWh.*(1-SOC))\n",
    "\n",
    "    # η Constraint\n",
    "    @constraint(m, cVAR_constraint[k=Ω], η + (sum(charger_cost[j].*x_charger[i,j].*P[j] for j in Σ for i in Γ) \n",
    "                                           +  sum(opportunity_cost.*E_not_supplied[i,k] for i in Γ)\n",
    "                                           # +  sum(0.1*sum(E_supplied[i,j,k,t] for j in Σ)^(2) for i in Γ for t in Τ)\n",
    "                                           +  sum(0.1*sum(E_supplied[i,j,k,t] for j in Σ) for i in Γ for t in Τ)\n",
    "                                           +  sum(prices[t,k].*E_supplied[i,j,k,t] for j in Σ for i in Γ for t in Τ))\n",
    "                                           <= s[k])\n",
    "\n",
    "    # Run optimization\n",
    "    optimize!(m)\n",
    "\n",
    "    # Evaluate resuluts\n",
    "    obj = objective_value(m)\n",
    "    charger_in_hex = value.(x_charger)\n",
    "    res_total_cost = value.(total_cost)\n",
    "    cvar = value.(cVAR)\n",
    "    \n",
    "    return charger_in_hex, E_not_supplied, res_total_cost, cvar\n",
    "end\n",
    "# x_charger, E_supplied, cars_not_supplied, cars_supplied, obj,"
   ]
  },
  {
   "cell_type": "code",
   "execution_count": 18,
   "metadata": {
    "scrolled": true
   },
   "outputs": [
    {
     "name": "stdout",
     "output_type": "stream",
     "text": [
      "Version identifier: 12.10.0.0 | 2019-11-26 | 843d4de2ae\n",
      "Found incumbent of value -150.216859 after 0.02 sec. (14.72 ticks)\n",
      "Tried aggregator 1 time.\n",
      "MIP Presolve eliminated 112032 rows and 101446 columns.\n",
      "MIP Presolve modified 180 coefficients.\n",
      "Reduced MIP has 14304 rows, 12960 columns, and 38256 nonzeros.\n",
      "Reduced MIP has 250 binaries, 9254 generals, 0 SOSs, and 0 indicators.\n",
      "Presolve time = 0.11 sec. (109.59 ticks)\n",
      "Probing time = 0.00 sec. (0.68 ticks)\n",
      "Tried aggregator 1 time.\n",
      "MIP Presolve eliminated 14058 rows and 12735 columns.\n",
      "Reduced MIP has 246 rows, 225 columns, and 654 nonzeros.\n",
      "Reduced MIP has 0 binaries, 171 generals, 0 SOSs, and 0 indicators.\n",
      "Presolve time = 0.00 sec. (7.45 ticks)\n",
      "Tried aggregator 1 time.\n",
      "Detecting symmetries...\n",
      "Reduced MIP has 246 rows, 225 columns, and 654 nonzeros.\n",
      "Reduced MIP has 0 binaries, 171 generals, 0 SOSs, and 0 indicators.\n",
      "Presolve time = 0.01 sec. (0.56 ticks)\n",
      "MIP emphasis: balance optimality and feasibility.\n",
      "MIP search method: dynamic search.\n",
      "Parallel mode: deterministic, using up to 8 threads.\n",
      "Root relaxation solution time = 0.00 sec. (0.31 ticks)\n",
      "\n",
      "        Nodes                                         Cuts/\n",
      "   Node  Left     Objective  IInf  Best Integer    Best Bound    ItCnt     Gap\n",
      "\n",
      "*     0+    0                        23089.0629    24098.0154             4.37%\n",
      "*     0     0      integral     0    23248.9088    23248.9088       16    0.00%\n",
      "Elapsed time = 0.27 sec. (267.61 ticks, tree = 0.00 MB, solutions = 2)\n",
      "\n",
      "Root node processing (before b&c):\n",
      "  Real time             =    0.27 sec. (272.20 ticks)\n",
      "Parallel b&c, 8 threads:\n",
      "  Real time             =    0.00 sec. (0.00 ticks)\n",
      "  Sync time (average)   =    0.00 sec.\n",
      "  Wait time (average)   =    0.00 sec.\n",
      "                          ------------\n",
      "Total (root+branch&cut) =    0.27 sec. (272.20 ticks)\n",
      "2-dimensional DenseAxisArray{Float64,2,...} with index sets:\n",
      "    Dimension 1, [1, 2, 3, 4, 5, 6, 7, 8, 9, 10  …  88, 89, 90, 91, 92, 93, 94, 95, 96, 97]\n",
      "    Dimension 2, [1, 2, 3]\n",
      "And data, a 97×3 Array{Float64,2}:\n",
      "  0.0   0.0   0.0\n",
      "  0.0   0.0   0.0\n",
      "  0.0   0.0   0.0\n",
      " -0.0  -0.0   4.0\n",
      "  0.0   0.0   0.0\n",
      "  0.0   0.0   6.0\n",
      "  0.0   0.0   0.0\n",
      "  0.0   0.0   0.0\n",
      "  0.0   0.0   0.0\n",
      "  0.0   0.0   6.0\n",
      "  0.0   0.0   0.0\n",
      "  0.0   0.0   1.0\n",
      "  0.0   0.0   3.0\n",
      "  0.0   0.0   3.0\n",
      "  0.0   0.0   0.0\n",
      "  0.0   0.0   2.0\n",
      "  0.0   0.0  27.0\n",
      "  0.0   0.0   7.0\n",
      "  0.0   0.0   2.0\n",
      "  0.0   0.0  13.0\n",
      "  0.0   0.0  17.0\n",
      "  0.0   0.0   8.0\n",
      "  0.0   0.0   0.0\n",
      "  0.0   0.0   1.0\n",
      "  0.0   0.0  12.0\n",
      "  0.0   0.0   1.0\n",
      "  0.0   0.0   7.0\n",
      "  0.0   0.0   0.0\n",
      "  0.0   0.0   0.0\n",
      "  0.0   0.0  11.0\n",
      "  0.0   0.0  16.0\n",
      "  0.0   0.0   0.0\n",
      "  0.0   0.0   0.0\n",
      "  0.0   0.0   0.0\n",
      "  0.0   0.0   1.0\n",
      "  0.0   0.0   0.0\n",
      "  0.0   0.0   0.0\n",
      "  0.0   0.0   0.0\n",
      "  0.0   0.0   0.0\n",
      "  0.0   0.0   7.0\n",
      "  0.0   0.0   7.0\n",
      "  0.0   0.0  18.0\n",
      "  0.0   0.0   1.0\n",
      "  0.0   0.0   0.0\n",
      "  0.0   0.0   8.0\n",
      "  0.0   0.0  17.0\n",
      "  0.0   0.0   9.0\n",
      "  0.0   0.0   8.0\n",
      "  0.0   0.0  16.0\n",
      "  0.0   0.0  15.0\n",
      "  0.0   0.0  18.0\n",
      "  0.0   0.0   0.0\n",
      "  0.0   0.0   2.0\n",
      "  0.0   0.0   0.0\n",
      "  0.0   0.0  12.0\n",
      "  0.0   0.0  24.0\n",
      "  0.0   0.0   6.0\n",
      "  0.0   0.0  15.0\n",
      "  0.0   0.0  14.0\n",
      "  0.0   0.0  11.0\n",
      "  0.0   0.0   1.0\n",
      "  0.0   0.0   0.0\n",
      "  0.0   0.0   0.0\n",
      "  0.0   0.0   4.0\n",
      "  0.0   0.0   6.0\n",
      "  0.0   0.0  13.0\n",
      "  0.0   0.0  13.0\n",
      "  0.0   0.0   0.0\n",
      "  0.0   0.0   0.0\n",
      "  0.0   0.0   4.0\n",
      "  0.0   0.0   7.0\n",
      "  0.0   0.0   0.0\n",
      "  0.0   0.0   1.0\n",
      "  0.0   0.0   1.0\n",
      "  0.0   0.0   0.0\n",
      "  0.0   0.0   0.0\n",
      "  0.0   0.0   1.0\n",
      "  0.0   0.0   0.0\n",
      "  0.0   0.0   0.0\n",
      "  0.0   0.0  32.0\n",
      "  0.0   0.0  13.0\n",
      "  0.0   0.0  19.0\n",
      "  0.0   0.0   7.0\n",
      "  0.0   0.0  21.0\n",
      "  0.0   0.0   6.0\n",
      "  0.0   0.0  16.0\n",
      "  0.0   0.0   0.0\n",
      "  0.0   0.0   3.0\n",
      "  0.0   0.0   2.0\n",
      "  0.0   0.0   1.0\n",
      "  0.0   0.0   4.0\n",
      "  0.0   0.0   8.0\n",
      "  0.0   0.0   0.0\n",
      "  0.0   0.0  23.0\n",
      "  0.0   0.0   9.0\n",
      "  0.0   0.0   3.0\n",
      "  0.0   0.0  20.0\n",
      "cvar:-474.3637941006362\n",
      "total_cost:23248.908848788193\n"
     ]
    },
    {
     "data": {
      "text/plain": [
       "0"
      ]
     },
     "execution_count": 18,
     "metadata": {},
     "output_type": "execute_result"
    }
   ],
   "source": [
    "charger_in_hex, E_not_supplied, res_total_cost, cvar = charger_siting(\n",
    "    SOC, hexagons, hours, car_kWh, demand_cars, demand_kWh, prices, \n",
    "        probability, P, charger_cost, opportunity_cost, alpha, beta)\n",
    "\n",
    "println(charger_in_hex)\n",
    "println(\"cvar:\",cvar)\n",
    "println(\"total_cost:\",res_total_cost)\n",
    "\n",
    "charger_amount = sum(charger_in_hex)\n",
    "\n",
    "opportunity_cost"
   ]
  },
  {
   "cell_type": "code",
   "execution_count": null,
   "metadata": {
    "scrolled": true
   },
   "outputs": [],
   "source": [
    "hours_lst = [[\"22\", \"23\", \"24\", \"1\", \"2\", \"3\", \"4\"],\n",
    "            [\"23\", \"24\", \"1\", \"2\", \"3\", \"4\"],\n",
    "            [\"24\", \"1\", \"2\", \"3\", \"4\"],\n",
    "            [\"1\", \"2\", \"3\", \"4\"],\n",
    "            [\"2\", \"3\", \"4\"],\n",
    "            [\"3\", \"4\"]]\n",
    "charger_hours_dict = Dict()\n",
    "energy_hours_dict = Dict()\n",
    "cost_hours_dict = Dict()\n",
    "cvar_hours_dict = Dict()\n",
    "for hours in hours_lst\n",
    "    charger_in_hex, E_not_supplied, res_total_cost, cvar = charger_siting(\n",
    "        SOC, hexagons, hours, car_kWh, demand_cars, demand_kWh, prices,\n",
    "        probability, P, charger_cost, opportunity_cost, alpha, beta)\n",
    "    charger_hours_dict[length(hours)] = charger_in_hex\n",
    "    energy_hours_dict[length(hours)] = value.(E_not_supplied)\n",
    "    cost_hours_dict[length(hours)] = res_total_cost\n",
    "    cvar_hours_dict[length(hours)] = cvar\n",
    "end"
   ]
  },
  {
   "cell_type": "code",
   "execution_count": null,
   "metadata": {},
   "outputs": [],
   "source": [
    "for hours in hours_lst\n",
    "    println(length(hours), \" hours: \",\n",
    "        \"charger_in_hex = \", sum(charger_hours_dict[length(hours)]),\n",
    "        \" / Energy not supplied = \", sum(energy_hours_dict[length(hours)]),\n",
    "        \" / total cost = \", cost_hours_dict[length(hours)],\n",
    "        \" / Cvar = \", cvar_hours_dict[length(hours)]\n",
    "    )\n",
    "end"
   ]
  },
  {
   "cell_type": "code",
   "execution_count": null,
   "metadata": {
    "scrolled": true
   },
   "outputs": [],
   "source": [
    "for (key, value) in charger_hours_dict\n",
    "    CSV.write(\n",
    "        string(\"sensitivity/hours/charger_in_hex_\",string(key),\".csv\"),\n",
    "        DataFrame(value)\n",
    "    )\n",
    "end\n",
    "for (key, value) in energy_hours_dict\n",
    "    CSV.write(\n",
    "        string(\"sensitivity/hours/E_not_supplied_\",string(key),\".csv\"),\n",
    "        DataFrame(value)\n",
    "    )\n",
    "end\n",
    "CSV.write(\n",
    "        string(\"sensitivity/hours/cost_dict.csv\"),\n",
    "        cost_hours_dict\n",
    "    )\n",
    "CSV.write(\n",
    "        string(\"sensitivity/hours/cvar_dict.csv\"),\n",
    "        cvar_hours_dict\n",
    "    )"
   ]
  },
  {
   "cell_type": "code",
   "execution_count": null,
   "metadata": {},
   "outputs": [],
   "source": [
    "println(opportunity_cost)\n",
    "println(hours)"
   ]
  },
  {
   "cell_type": "code",
   "execution_count": null,
   "metadata": {},
   "outputs": [],
   "source": [
    "op_cost_lst = [1000, 2000, 3000, 4000, 5000, 6000, 7000, 8000, 9000, 10000]\n",
    "charger_op_cost_dict = Dict()\n",
    "energy_op_cost_dict = Dict()\n",
    "cost_op_cost_dict = Dict()\n",
    "cvar_op_cost_dict = Dict()\n",
    "for opportunity_cost in op_cost_lst\n",
    "    charger_in_hex, E_not_supplied, res_total_cost, cvar= charger_siting(\n",
    "        SOC, hexagons, hours, car_kWh, demand_cars, demand_kWh, prices,\n",
    "        probability, P, charger_cost, opportunity_cost, alpha, beta)\n",
    "    charger_op_cost_dict[opportunity_cost] = charger_in_hex\n",
    "    energy_op_cost_dict[opportunity_cost] = value.(E_not_supplied)\n",
    "    cost_op_cost_dict[opportunity_cost] = res_total_cost\n",
    "    cvar_op_cost_dict[opportunity_cost] = cvar\n",
    "end"
   ]
  },
  {
   "cell_type": "code",
   "execution_count": null,
   "metadata": {},
   "outputs": [],
   "source": [
    "for opportunity_cost in op_cost_lst\n",
    "    println(opportunity_cost, \n",
    "        \" Opportunity Cost: \", \"charger_in_hex = \", sum(charger_op_cost_dict[opportunity_cost]),\n",
    "        \" / Energy not supplied = \", sum(energy_op_cost_dict[opportunity_cost]),\n",
    "        \" / total cost = \", cost_op_cost_dict[opportunity_cost],\n",
    "        \" / Cvar = \", cvar_op_cost_dict[opportunity_cost]\n",
    "    )\n",
    "end"
   ]
  },
  {
   "cell_type": "code",
   "execution_count": null,
   "metadata": {},
   "outputs": [],
   "source": [
    "for (key, value) in charger_op_cost_dict\n",
    "    CSV.write(\n",
    "        string(\"sensitivity/opportunity/charger_in_hex_\",string(key),\".csv\"),\n",
    "        DataFrame(value)\n",
    "    )\n",
    "end\n",
    "for (key, value) in energy_op_cost_dict\n",
    "    CSV.write(\n",
    "        string(\"sensitivity/opportunity/E_not_supplied_\",string(key),\".csv\"),\n",
    "        DataFrame(value)\n",
    "    )\n",
    "end\n",
    "CSV.write(\n",
    "        string(\"sensitivity/opportunity/cost_dict.csv\"),\n",
    "        cost_op_cost_dict\n",
    "    )\n",
    "CSV.write(\n",
    "        string(\"sensitivity/opportunity/cvar_dict.csv\"),\n",
    "        cvar_op_cost_dict\n",
    "    )"
   ]
  },
  {
   "cell_type": "code",
   "execution_count": null,
   "metadata": {},
   "outputs": [],
   "source": [
    "println(opportunity_cost)\n",
    "println(hours)"
   ]
  },
  {
   "cell_type": "code",
   "execution_count": null,
   "metadata": {},
   "outputs": [],
   "source": [
    "beta_lst = [0.0, 0.2, 0.4, 0.6, 0.8, 1.0]\n",
    "charger_beta_dict = Dict()\n",
    "energy_beta_dict = Dict()\n",
    "cost_beta_dict = Dict()\n",
    "cvar_beta_dict = Dict()\n",
    "for beta in beta_lst\n",
    "    charger_in_hex, E_not_supplied, res_total_cost, cvar= charger_siting(\n",
    "        SOC, hexagons, hours, car_kWh, demand_cars, demand_kWh, prices,\n",
    "        probability, P, charger_cost, opportunity_cost, alpha, beta)\n",
    "    charger_beta_dict[beta] = charger_in_hex\n",
    "    energy_beta_dict[beta] = value.(E_not_supplied)\n",
    "    cost_beta_dict[beta] = res_total_cost\n",
    "    cvar_beta_dict[beta] = cvar\n",
    "end"
   ]
  },
  {
   "cell_type": "code",
   "execution_count": null,
   "metadata": {},
   "outputs": [],
   "source": [
    "for beta in beta_lst\n",
    "    println(beta, \n",
    "        \" beta: \", \"charger_in_hex = \", sum(charger_beta_dict[beta]),\n",
    "        \" / Energy not supplied = \", sum(energy_beta_dict[beta]),\n",
    "        \" / total cost = \", cost_beta_dict[beta],\n",
    "        \" / Cvar = \", cvar_beta_dict[beta]\n",
    "    )\n",
    "end"
   ]
  },
  {
   "cell_type": "code",
   "execution_count": null,
   "metadata": {},
   "outputs": [],
   "source": [
    "for (key, value) in charger_beta_dict\n",
    "    CSV.write(\n",
    "        string(\"sensitivity/beta/charger_in_hex_\",string(key),\".csv\"),\n",
    "        DataFrame(value)\n",
    "    )\n",
    "end\n",
    "for (key, value) in energy_beta_dict\n",
    "    CSV.write(\n",
    "        string(\"sensitivity/beta/E_not_supplied_\",string(key),\".csv\"),\n",
    "        DataFrame(value)\n",
    "    )\n",
    "end\n",
    "CSV.write(\n",
    "        string(\"sensitivity/beta/cost_dict.csv\"),\n",
    "        cost_beta_dict\n",
    "    )\n",
    "CSV.write(\n",
    "        string(\"sensitivity/beta/cvar_dict.csv\"),\n",
    "        cvar_beta_dict\n",
    "    )"
   ]
  },
  {
   "cell_type": "markdown",
   "metadata": {},
   "source": [
    "charger_cost = [600, 400, 100]# investment cost for charger 3 kW, 7 kW und 11 kW in €/kW\n",
    "charger_cost_delta = 600\n",
    "charger_cost_dict = Dict()\n",
    "energy_dict = Dict()\n",
    "for i in range(0, step=100, stop=charger_cost_delta)\n",
    "    charger_in_hex, x_charger, E_not_supplied, = charger_siting(\n",
    "        SOC, hexagons, hours, car_kWh, demand_cars, demand_kWh, prices,\n",
    "        probability, P, charger_cost.+i, opportunity_cost, alpha, beta)\n",
    "    charger_cost_dict[charger_cost.+i] = charger_in_hex\n",
    "    energy_dict[charger_cost.+i] = value.(E_not_supplied)\n",
    "end"
   ]
  },
  {
   "cell_type": "markdown",
   "metadata": {},
   "source": [
    "for key in keys(charger_cost_dict)\n",
    "    println(key, \" Charger Cost: \", \"charger_in_hex = \", sum(charger_cost_dict[key]),\n",
    "        \" / Energy not supplied = \", sum(energy_dict[key]))\n",
    "end"
   ]
  }
 ],
 "metadata": {
  "kernelspec": {
   "display_name": "Julia 1.5.2",
   "language": "julia",
   "name": "julia-1.5"
  },
  "language_info": {
   "file_extension": ".jl",
   "mimetype": "application/julia",
   "name": "julia",
   "version": "1.5.2"
  }
 },
 "nbformat": 4,
 "nbformat_minor": 4
}
