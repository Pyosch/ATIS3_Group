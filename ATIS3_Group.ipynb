{
 "cells": [
  {
   "cell_type": "code",
   "execution_count": 1,
   "metadata": {},
   "outputs": [
    {
     "name": "stderr",
     "output_type": "stream",
     "text": [
      "\u001b[32m\u001b[1m Activating\u001b[22m\u001b[39m environment at `C:\\Users\\sbirk\\Documents\\sciebo\\Programmierung\\ATIS3_2020\\Project.toml`\n"
     ]
    }
   ],
   "source": [
    "using Pkg\n",
    "Pkg.activate(\"..\")\n",
    "Pkg.instantiate()"
   ]
  },
  {
   "cell_type": "code",
   "execution_count": 2,
   "metadata": {},
   "outputs": [],
   "source": [
    "using JuMP, GLPK, LinearAlgebra, Plots, StatsPlots, CPLEX, Statistics"
   ]
  },
  {
   "cell_type": "code",
   "execution_count": 3,
   "metadata": {},
   "outputs": [
    {
     "data": {
      "text/plain": [
       "4-element Array{Float64,1}:\n",
       " 0.2\n",
       " 0.3\n",
       " 0.4\n",
       " 0.1"
      ]
     },
     "execution_count": 3,
     "metadata": {},
     "output_type": "execute_result"
    }
   ],
   "source": [
    "hexagons = [1, 2, 3, 4, 5]\n",
    "zeitfenster = 8 # h # timeslots = [1, 2, 3, 4, 5, 6, 7, 8, 9, 10, 11, 12, 13, 14, 15, 16, 17, 18, 19, 20, 21, 22, 23, 24]\n",
    "charger_cost = 2000\n",
    "# charger_types = [3, 11, 22]\n",
    "# charger_cost = [1000, 2500, 4000]\n",
    "# arrival_times = [17, 18, 19, 20]\n",
    "# arrival_probability = [0.2, 0.3, 0.3, 0.2]\n",
    "# departure_times = [6, 7, 8, 9]\n",
    "# departure_probability = [0.2, 0.3, 0.3, 0.2]\n",
    "demand = [30 20 10 5;\n",
    "        30 20 10 5;\n",
    "        30 20 10 5;\n",
    "        30 20 10 5;\n",
    "        30 20 10 5]\n",
    "# soc = [30, 20, 10, 1]\n",
    "demand_probability = [0.2, 0.3, 0.4, 0.1]\n",
    "opportunity_cost = 100"
   ]
  },
  {
   "cell_type": "code",
   "execution_count": null,
   "metadata": {},
   "outputs": [],
   "source": [
    "function charger_siting(charger_cost, opportunity_cost)\n",
    "    Ω = length(demand_probability)\n",
    "    Γ = Array{int}(1:length(hexagons))\n",
    "    m = Model(GLPK.Optimizer)\n",
    "    \n",
    "    @variable(m, x_p[i = Γ] >= 0) # charging power in each hexagon\n",
    "    @variable(m, y[i = Γ,1:Ω] >= 0) # supplied energy in each hexagon\n",
    "    @variable(m, z[i = Γ,1:Ω] >= 0) # demand not covered\n",
    "    \n",
    "    \n",
    "    @constraint(m, [ω in 1:Ω], y + z == demand[])\n",
    "    @objective(m, Min, \n",
    "        sum(charger_cost .* x_p[i],for i in Γ)\n",
    "        + sum(opportunity_cost .* z[]))\n",
    "    "
   ]
  }
 ],
 "metadata": {
  "kernelspec": {
   "display_name": "Julia 1.5.2",
   "language": "julia",
   "name": "julia-1.5"
  },
  "language_info": {
   "file_extension": ".jl",
   "mimetype": "application/julia",
   "name": "julia",
   "version": "1.5.2"
  }
 },
 "nbformat": 4,
 "nbformat_minor": 4
}
