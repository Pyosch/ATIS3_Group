{
 "cells": [
  {
   "cell_type": "code",
   "execution_count": 1,
   "metadata": {},
   "outputs": [
    {
     "name": "stderr",
     "output_type": "stream",
     "text": [
      "\u001b[32m\u001b[1m Activating\u001b[22m\u001b[39m new environment at `C:\\Users\u0007lili\\.julia\\environments\\v1.5\\Project.toml`\n",
      "\u001b[32m\u001b[1m   Updating\u001b[22m\u001b[39m registry at `C:\\Users\\alili\\.julia\\registries\\General`"
     ]
    },
    {
     "name": "stdout",
     "output_type": "stream",
     "text": [
      "\u001b[?25l"
     ]
    },
    {
     "name": "stderr",
     "output_type": "stream",
     "text": [
      "\n",
      "\u001b[32m\u001b[1m   Updating\u001b[22m\u001b[39m git-repo `https://github.com/JuliaRegistries/General.git`\n"
     ]
    },
    {
     "name": "stdout",
     "output_type": "stream",
     "text": [
      "\u001b[2K\u001b[?25h[1mFetching:\u001b[22m\u001b[39m [========================================>]  100.0 %                                   ]  7.5 %====>                                    ]  9.0 %======>                                  ]  13.3 %\u001b[36m\u001b[1mFetching:\u001b[22m\u001b[39m [=========>                               ]  21.7 %]  24.7 % [===========>                             ]  25.6 % [============>                            ]  27.9 %\u001b[36m\u001b[1mFetching:\u001b[22m\u001b[39m [============>                            ]  29.7 %\u001b[36m\u001b[1mFetching:\u001b[22m\u001b[39m [=============>                           ]  30.7 % %]  42.8 %\u001b[36m\u001b[1mFetching:\u001b[22m\u001b[39m [===================>                     ]  46.5 % [====================>                    ]  49.5 %======================>                  ]  54.2 % % [========================>                ]  59.6 %>               ]  61.7 %==========================>              ]  64.3 %>             ]  66.4 %>            ]  68.2 %         ]  77.2 %>   ]  91.6 % [========================================>]  97.8 %]  99.1 %"
     ]
    },
    {
     "ename": "LoadError",
     "evalue": "IOError: mkdir: invalid argument (EINVAL)",
     "output_type": "error",
     "traceback": [
      "IOError: mkdir: invalid argument (EINVAL)",
      "",
      "Stacktrace:",
      " [1] uv_error at .\\libuv.jl:97 [inlined]",
      " [2] mkdir(::String; mode::UInt16) at .\\file.jl:177",
      " [3] mkpath(::String; mode::UInt16) at .\\file.jl:227",
      " [4] mkpath(::String; mode::UInt16) at .\\file.jl:225 (repeats 3 times)",
      " [5] mkpath at .\\file.jl:222 [inlined]",
      " [6] write_project at C:\\buildbot\\worker\\package_win64\\build\\usr\\share\\julia\\stdlib\\v1.5\\Pkg\\src\\project.jl:172 [inlined]",
      " [7] write_env(::Pkg.Types.EnvCache; update_undo::Bool) at C:\\buildbot\\worker\\package_win64\\build\\usr\\share\\julia\\stdlib\\v1.5\\Pkg\\src\\Types.jl:1366",
      " [8] write_env at C:\\buildbot\\worker\\package_win64\\build\\usr\\share\\julia\\stdlib\\v1.5\\Pkg\\src\\Types.jl:1366 [inlined]",
      " [9] up(::Pkg.Types.Context, ::Array{Pkg.Types.PackageSpec,1}, ::Pkg.Types.UpgradeLevel) at C:\\buildbot\\worker\\package_win64\\build\\usr\\share\\julia\\stdlib\\v1.5\\Pkg\\src\\Operations.jl:1226",
      " [10] up(::Pkg.Types.Context, ::Array{Pkg.Types.PackageSpec,1}; level::Pkg.Types.UpgradeLevel, mode::Pkg.Types.PackageMode, update_registry::Bool, kwargs::Base.Iterators.Pairs{Union{},Union{},Tuple{},NamedTuple{(),Tuple{}}}) at C:\\buildbot\\worker\\package_win64\\build\\usr\\share\\julia\\stdlib\\v1.5\\Pkg\\src\\API.jl:245",
      " [11] #up#38 at C:\\buildbot\\worker\\package_win64\\build\\usr\\share\\julia\\stdlib\\v1.5\\Pkg\\src\\API.jl:68 [inlined]",
      " [12] instantiate(::Pkg.Types.Context; manifest::Nothing, update_registry::Bool, verbose::Bool, platform::Pkg.BinaryPlatforms.Windows, kwargs::Base.Iterators.Pairs{Union{},Union{},Tuple{},NamedTuple{(),Tuple{}}}) at C:\\buildbot\\worker\\package_win64\\build\\usr\\share\\julia\\stdlib\\v1.5\\Pkg\\src\\API.jl:810",
      " [13] instantiate(::Pkg.Types.Context) at C:\\buildbot\\worker\\package_win64\\build\\usr\\share\\julia\\stdlib\\v1.5\\Pkg\\src\\API.jl:795",
      " [14] #instantiate#169 at C:\\buildbot\\worker\\package_win64\\build\\usr\\share\\julia\\stdlib\\v1.5\\Pkg\\src\\API.jl:791 [inlined]",
      " [15] instantiate() at C:\\buildbot\\worker\\package_win64\\build\\usr\\share\\julia\\stdlib\\v1.5\\Pkg\\src\\API.jl:791",
      " [16] top-level scope at In[1]:3",
      " [17] include_string(::Function, ::Module, ::String, ::String) at .\\loading.jl:1091"
     ]
    }
   ],
   "source": [
    "using Pkg\n",
    "Pkg.activate(\"C:\\\\Users\\alili\\\\.julia\\\\environments\\\\v1.5\\\\Project.toml\") # change path \n",
    "Pkg.instantiate()"
   ]
  },
  {
   "cell_type": "code",
   "execution_count": 2,
   "metadata": {},
   "outputs": [],
   "source": [
    "using JuMP, LinearAlgebra, Plots, StatsPlots, CPLEX, Statistics, CSV, DataFrames"
   ]
  },
  {
   "cell_type": "code",
   "execution_count": 5,
   "metadata": {},
   "outputs": [
    {
     "data": {
      "text/plain": [
       "5000"
      ]
     },
     "execution_count": 5,
     "metadata": {},
     "output_type": "execute_result"
    }
   ],
   "source": [
    "#read scenario data\n",
    "scenarios_hexagons = CSV.read(\"scenarios_multinomial.csv\", DataFrame)\n",
    "scenarios_prices = CSV.read(\"priceScenarions3.csv\", DataFrame)\n",
    "\n",
    "SOC = 0.33\n",
    "hexagons = names(scenarios_hexagons)[1:length(names(scenarios_hexagons))-1] # vector of hexagons (strings)\n",
    "hours = names(scenarios_prices)[3:length(names(scenarios_prices))] #vector of hours for charging (strings)\n",
    "car_kWh = 30 # capacity of each car\n",
    "\n",
    "#demand mxn (m=hexagon, n=scenario) in kWh summe über car*max_kWh*(1-SOC)\n",
    "demand_cars = transpose(convert(Matrix,scenarios_hexagons[:,hexagons]))\n",
    "demand_kWh = demand_cars.*car_kWh.*(1-SOC)\n",
    "\n",
    "#prices mxn (m=hours, n=scenario)\n",
    "prices = transpose(convert(Matrix,scenarios_prices[:,hours]))\n",
    "\n",
    "probability_hexagons = transpose(scenarios_hexagons.probs) # probabilities for each scenario (#cars per hexagon)\n",
    "probability_prices = transpose(scenarios_prices.Probability) # probabilities for each scenario (timeseries prices)\n",
    "\n",
    "P = [3, 7, 11] # different charger types in kW\n",
    "charger_cost = [1500, 800, 500] # investment cost for charger 3 kW, 7 kW und 11 kW in €/kW\n",
    "opportunity_cost = 5000 # cost of demand not served\n"
   ]
  },
  {
   "cell_type": "code",
   "execution_count": 11,
   "metadata": {
    "scrolled": true
   },
   "outputs": [
    {
     "data": {
      "text/plain": [
       "charger_siting (generic function with 1 method)"
      ]
     },
     "execution_count": 11,
     "metadata": {},
     "output_type": "execute_result"
    }
   ],
   "source": [
    "function charger_siting(SOC, hexagons, hours, car_kWh, demand_cars, demand_kWh, prices, \n",
    "        probability_hexagons, probability_prices, P, charger_cost, opportunity_cost)\n",
    "    \n",
    "    # Define Sets\n",
    "    Γ = Array{Int}(1:length(hexagons)) # Set with hexagons\n",
    "    Σ = Array{Int}(1:length(P)) # Set with charger types \n",
    "    Ω = Array{Int}(1:length(probability_hexagons)) # Set with scenarios for hexagons\n",
    "    Τ = Array{Int}(1:length(hours)) # Set with hours\n",
    "    Ρ = Array{Int}(1:length(probability_prices)) # Set with scenarios for prices\n",
    "\n",
    "    println(Σ)\n",
    "    \n",
    "    # Initialize model    \n",
    "    m = Model(CPLEX.Optimizer)\n",
    "\n",
    "    # Define variables\n",
    "    @variable(m, 0 <= x_charger[i=Γ,j=Σ],Int) # number of specific charger type in each hexagon\n",
    "    @variable(m, 0 <= E_supplied[i=Γ,j=Σ,k=Ω,t=Τ,p=Ρ]) # supplied energy in each hexagon kWh\n",
    "    @variable(m, 0 <= E_not_supplied[i=Γ,k=Ω,p=Ρ])     # demand not covered kWh\n",
    "    @variable(m, 0 <= cars_supplied[i=Γ,j=Σ,k=Ω,p=Ρ],Int)\n",
    "    @variable(m, 0 <= cars_not_supplied[i=Γ,j=Σ,k=Ω,p=Ρ],Int)\n",
    "\n",
    "    # Objective function \n",
    "    @expression(m, invest_cost[i=Γ,j=Σ], charger_cost[j].*x_charger[i,j].*P[j]) # first stage investment cost\n",
    "    @expression(m, charging_opportunity_cost[i=Γ,k=Ω,p=Ρ], opportunity_cost.*E_not_supplied[i,k,p]\n",
    "                                                     .*probability_hexagons[k]\n",
    "                                                     .*probability_prices[p])\n",
    "    @expression(m, grid_usage[i=Γ,k=Ω,t=Τ,p=Ρ], 0.1*sum(E_supplied[i,j,k,t,p] for j in Σ)^2\n",
    "                                                     .*probability_hexagons[k]\n",
    "                                                     .*probability_prices[p])\n",
    "    @expression(m, charging_cost[i=Γ,j=Σ,k=Ω,t=Τ,p=Ρ], prices[t,p].*E_supplied[i,j,k,t,p]\n",
    "                                                     .*probability_hexagons[k]\n",
    "                                                     .*probability_prices[p]) #minimize cost of charging\n",
    "\n",
    "    @objective(m, Min, sum(invest_cost) \n",
    "                     + sum(charging_opportunity_cost)\n",
    "                     + sum(grid_usage)\n",
    "                     + sum(charging_cost)\n",
    "                      )\n",
    "\n",
    "    # Constraints\n",
    "    # Eq. Balance equation: Demand in each hexagon has to equal demand. Loss of load is possible\n",
    "    @constraint(m, eq_balance[i=Γ,k=Ω,p=Ρ], sum(sum(E_supplied[i,j,k,t,p] for j in Σ) for t in Τ) + E_not_supplied[i,k,p] == demand_kWh[i,k])\n",
    "\n",
    "    # Eq. energy limit: rated_power*chargingtime must not exeed energy\n",
    "    @constraint(m, eq_cap[i=Γ,j=Σ,k=Ω,t=Τ,p=Ρ], E_supplied[i,j,k,t,p] <= x_charger[i,j].*P[j])\n",
    "\n",
    "    # Eq. supplied cars and not supplied cars have to equal amount of cars in each hexagon\n",
    "    @constraint(m, eq_cars_supplied[i=Γ,j=Σ,k=Ω,p=Ρ], sum(cars_supplied[i,j,k,p] for j in Σ) \n",
    "                                                    + sum(cars_not_supplied[i,j,k,p] for j in Σ)\n",
    "                                                   == demand_cars[i,k])\n",
    "\n",
    "    # Eq. maximum one car per charging station\n",
    "    @constraint(m, eq_max_cars[i=Γ,j=Σ,k=Ω,p=Ρ], cars_supplied[i,j,k,p] <= x_charger[i,j])\n",
    "\n",
    "    # Eq. \n",
    "    @constraint(m, eq_max_supply[i=Γ,j=Σ,k=Ω,p=Ρ], sum(E_supplied[i,j,k,t,p] for t in Τ) <= cars_supplied[i,j,k,p]\n",
    "                                                                                         .* car_kWh.*(1-SOC))\n",
    "\n",
    "\n",
    "    # Run optimization\n",
    "    optimize!(m)\n",
    "\n",
    "    # Evaluate results\n",
    "    obj = objective_value(m)\n",
    "    charger_in_hex = value.(x_charger)\n",
    "    \n",
    "    return charger_in_hex, x_charger, E_not_supplied, E_supplied, cars_not_supplied, cars_supplied, obj\n",
    "end\n"
   ]
  },
  {
   "cell_type": "code",
   "execution_count": 12,
   "metadata": {
    "scrolled": false
   },
   "outputs": [
    {
     "name": "stdout",
     "output_type": "stream",
     "text": [
      "[1, 2, 3]\n",
      "Version identifier: 12.10.0.0 | 2019-11-26 | 843d4de2ae\n",
      "Found incumbent of value 5.9888580e+07 after 0.02 sec. (3.96 ticks)\n",
      "Tried aggregator 1 time.\n",
      "MIQP Presolve eliminated 17256 rows and 15861 columns.\n",
      "Reduced MIQP has 30856 rows, 27886 columns, and 104272 nonzeros.\n",
      "Reduced MIQP has 704 binaries, 3774 generals, 0 SOSs, and 0 indicators.\n",
      "Reduced MIQP objective Q matrix has 67032 nonzeros.\n",
      "Presolve time = 0.25 sec. (68.56 ticks)\n",
      "Probing time = 0.05 sec. (2.04 ticks)\n",
      "Tried aggregator 1 time.\n",
      "MIQP Presolve eliminated 116 rows and 107 columns.\n",
      "Reduced MIQP has 30740 rows, 27779 columns, and 103880 nonzeros.\n",
      "Reduced MIQP has 688 binaries, 3771 generals, 0 SOSs, and 0 indicators.\n",
      "Reduced MIQP objective Q matrix has 66780 nonzeros.\n",
      "Presolve time = 0.11 sec. (45.47 ticks)\n",
      "Classifier predicts products in MIQP should be linearized.\n",
      "Probing time = 0.05 sec. (2.01 ticks)\n",
      "Clique table members: 172.\n",
      "MIP emphasis: balance optimality and feasibility.\n",
      "MIP search method: dynamic search.\n",
      "Parallel mode: deterministic, using up to 4 threads.\n",
      "Root relaxation solution time = 4.58 sec. (1982.59 ticks)\n",
      "\n",
      "        Nodes                                         Cuts/\n",
      "   Node  Left     Objective  IInf  Best Integer    Best Bound    ItCnt     Gap\n",
      "\n",
      "*     0+    0                       5.98565e+07  -201183.7337           100.34%\n",
      "*     0     0      integral     0  3507234.6889  3507234.6889     4740    0.00%\n",
      "Elapsed time = 5.27 sec. (6380.45 ticks, tree = 0.00 MB, solutions = 3)\n",
      "\n",
      "Root node processing (before b&c):\n",
      "  Real time             =    5.30 sec. (6384.76 ticks)\n",
      "Parallel b&c, 4 threads:\n",
      "  Real time             =    0.00 sec. (0.00 ticks)\n",
      "  Sync time (average)   =    0.00 sec.\n",
      "  Wait time (average)   =    0.00 sec.\n",
      "                          ------------\n",
      "Total (root+branch&cut) =    5.30 sec. (6384.76 ticks)\n",
      "2-dimensional DenseAxisArray{Float64,2,...} with index sets:\n",
      "    Dimension 1, [1, 2, 3, 4, 5, 6, 7, 8, 9, 10  …  88, 89, 90, 91, 92, 93, 94, 95, 96, 97]\n",
      "    Dimension 2, [1, 2, 3]\n",
      "And data, a 97×3 Array{Float64,2}:\n",
      "  1.0                  0.0   0.0\n",
      "  0.0                  0.0   0.0\n",
      "  0.0                  0.0   0.0\n",
      "  9.0                 -0.0  -0.0\n",
      "  0.0                  0.0   0.0\n",
      "  5.0                 -0.0  -0.0\n",
      "  0.0                  0.0   0.0\n",
      "  0.0                  0.0   0.0\n",
      "  0.0                  0.0   0.0\n",
      "  6.0                 -0.0  -0.0\n",
      "  1.0                 -0.0  -0.0\n",
      "  0.0                  0.0   0.0\n",
      "  3.0                 -0.0  -0.0\n",
      "  7.000000000000001   -0.0  -0.0\n",
      "  0.0                  0.0   0.0\n",
      "  5.0                 -0.0  -0.0\n",
      " 27.0                 -0.0  -0.0\n",
      " 12.000000000000002   -0.0  -0.0\n",
      "  5.0                 -0.0  -0.0\n",
      " 18.0                 -0.0  -0.0\n",
      " 25.999999999999943   -0.0  -0.0\n",
      "  6.0                 -0.0  -0.0\n",
      "  0.0                  0.0   0.0\n",
      "  3.0000000000000004  -0.0  -0.0\n",
      " 10.0                 -0.0  -0.0\n",
      "  2.0                 -0.0  -0.0\n",
      "  9.0                 -0.0  -0.0\n",
      "  1.0                 -0.0  -0.0\n",
      "  4.0                 -0.0  -0.0\n",
      " 12.0                 -0.0  -0.0\n",
      " 14.0                 -0.0  -0.0\n",
      "  1.0                 -0.0  -0.0\n",
      "  0.0                  0.0   0.0\n",
      "  0.0                  0.0   0.0\n",
      "  2.0                 -0.0  -0.0\n",
      "  0.0                  0.0   0.0\n",
      "  0.0                  0.0   0.0\n",
      "  0.0                  0.0   0.0\n",
      "  3.0000000000000004  -0.0  -0.0\n",
      "  5.0                 -0.0  -0.0\n",
      "  9.0                 -0.0  -0.0\n",
      " 19.0                 -0.0  -0.0\n",
      "  1.0                 -0.0  -0.0\n",
      "  1.0                 -0.0  -0.0\n",
      "  9.0                 -0.0  -0.0\n",
      " 20.0                 -0.0  -0.0\n",
      " 14.999999999999998   -0.0  -0.0\n",
      " 13.0                 -0.0  -0.0\n",
      " 16.00000000000003    -0.0  -0.0\n",
      " 19.999999999999915   -0.0  -0.0\n",
      " 14.0                 -0.0  -0.0\n",
      "  0.0                  0.0   0.0\n",
      "  3.0000000000000004  -0.0  -0.0\n",
      "  0.0                  0.0   0.0\n",
      " 14.0                 -0.0  -0.0\n",
      " 18.00000000000007    -0.0  -0.0\n",
      "  8.0                 -0.0  -0.0\n",
      " 18.99999999999997    -0.0  -0.0\n",
      " 11.0                 -0.0  -0.0\n",
      " 15.99999999999995    -0.0  -0.0\n",
      "  4.0                 -0.0  -0.0\n",
      "  0.0                  0.0   0.0\n",
      "  2.0                 -0.0  -0.0\n",
      "  8.0                 -0.0  -0.0\n",
      "  7.0                 -0.0  -0.0\n",
      "  8.0                 -0.0  -0.0\n",
      " 14.0                 -0.0  -0.0\n",
      "  0.0                  0.0   0.0\n",
      "  0.0                  0.0   0.0\n",
      "  7.0                 -0.0  -0.0\n",
      "  6.000000000000001   -0.0  -0.0\n",
      "  1.0                 -0.0  -0.0\n",
      "  1.0                 -0.0  -0.0\n",
      "  3.0                 -0.0  -0.0\n",
      "  0.0                  0.0   0.0\n",
      "  0.0                  0.0   0.0\n",
      "  3.0                 -0.0  -0.0\n",
      "  0.0                  0.0   0.0\n",
      "  3.0000000000000004  -0.0  -0.0\n",
      " 36.0                 -0.0  -0.0\n",
      " 16.000000000000057   -0.0  -0.0\n",
      " 23.99999999999997    -0.0  -0.0\n",
      "  8.0                 -0.0  -0.0\n",
      " 18.99999999999997    -0.0  -0.0\n",
      " 10.999999999999998   -0.0  -0.0\n",
      " 23.999999999999844   -0.0  -0.0\n",
      "  0.0                  0.0   0.0\n",
      "  8.0                 -0.0  -0.0\n",
      "  1.0                 -0.0  -0.0\n",
      "  2.0                 -0.0  -0.0\n",
      "  3.0000000000000004  -0.0  -0.0\n",
      "  6.000000000000001   -0.0  -0.0\n",
      "  1.0                 -0.0  -0.0\n",
      " 31.0                 -0.0  -0.0\n",
      "  9.0                 -0.0  -0.0\n",
      "  3.0000000000000004  -0.0  -0.0\n",
      " 17.0                 -0.0  -0.0\n",
      "3.5072346889175912e6\n"
     ]
    }
   ],
   "source": [
    "charger_in_hex, x_charger, E_not_supplied, E_supplied, cars_not_supplied, cars_supplied, obj= charger_siting(\n",
    "    SOC, hexagons, hours, car_kWh, demand_cars, demand_kWh, prices, \n",
    "        probability_hexagons, probability_prices, P, charger_cost, opportunity_cost)\n",
    "\n",
    "println(charger_in_hex)\n",
    "println(obj)"
   ]
  },
  {
   "cell_type": "code",
   "execution_count": null,
   "metadata": {},
   "outputs": [],
   "source": []
  }
 ],
 "metadata": {
  "kernelspec": {
   "display_name": "Julia 1.5.3",
   "language": "julia",
   "name": "julia-1.5"
  },
  "language_info": {
   "file_extension": ".jl",
   "mimetype": "application/julia",
   "name": "julia",
   "version": "1.5.3"
  }
 },
 "nbformat": 4,
 "nbformat_minor": 4
}
