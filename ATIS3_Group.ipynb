{
 "cells": [
  {
   "cell_type": "code",
   "execution_count": 3,
   "metadata": {},
   "outputs": [
    {
     "name": "stderr",
     "output_type": "stream",
     "text": [
      "\u001b[32m\u001b[1m Activating\u001b[22m\u001b[39m new environment at `C:\\Users\u0007lili\\.julia\\environments\\v1.5\\Project.toml`\n",
      "\u001b[32m\u001b[1m   Updating\u001b[22m\u001b[39m registry at `C:\\Users\\alili\\.julia\\registries\\General`"
     ]
    },
    {
     "name": "stdout",
     "output_type": "stream",
     "text": [
      "\u001b[?25l"
     ]
    },
    {
     "name": "stderr",
     "output_type": "stream",
     "text": [
      "\n",
      "\u001b[32m\u001b[1m   Updating\u001b[22m\u001b[39m git-repo `https://github.com/JuliaRegistries/General.git`\n"
     ]
    },
    {
     "name": "stdout",
     "output_type": "stream",
     "text": [
      "\u001b[2K\u001b[?25h"
     ]
    },
    {
     "ename": "LoadError",
     "evalue": "IOError: mkdir: invalid argument (EINVAL)",
     "output_type": "error",
     "traceback": [
      "IOError: mkdir: invalid argument (EINVAL)",
      "",
      "Stacktrace:",
      " [1] uv_error at .\\libuv.jl:97 [inlined]",
      " [2] mkdir(::String; mode::UInt16) at .\\file.jl:177",
      " [3] mkpath(::String; mode::UInt16) at .\\file.jl:227",
      " [4] mkpath(::String; mode::UInt16) at .\\file.jl:225 (repeats 3 times)",
      " [5] mkpath at .\\file.jl:222 [inlined]",
      " [6] write_project at C:\\buildbot\\worker\\package_win64\\build\\usr\\share\\julia\\stdlib\\v1.5\\Pkg\\src\\project.jl:172 [inlined]",
      " [7] write_env(::Pkg.Types.EnvCache; update_undo::Bool) at C:\\buildbot\\worker\\package_win64\\build\\usr\\share\\julia\\stdlib\\v1.5\\Pkg\\src\\Types.jl:1366",
      " [8] write_env at C:\\buildbot\\worker\\package_win64\\build\\usr\\share\\julia\\stdlib\\v1.5\\Pkg\\src\\Types.jl:1366 [inlined]",
      " [9] up(::Pkg.Types.Context, ::Array{Pkg.Types.PackageSpec,1}, ::Pkg.Types.UpgradeLevel) at C:\\buildbot\\worker\\package_win64\\build\\usr\\share\\julia\\stdlib\\v1.5\\Pkg\\src\\Operations.jl:1226",
      " [10] up(::Pkg.Types.Context, ::Array{Pkg.Types.PackageSpec,1}; level::Pkg.Types.UpgradeLevel, mode::Pkg.Types.PackageMode, update_registry::Bool, kwargs::Base.Iterators.Pairs{Union{},Union{},Tuple{},NamedTuple{(),Tuple{}}}) at C:\\buildbot\\worker\\package_win64\\build\\usr\\share\\julia\\stdlib\\v1.5\\Pkg\\src\\API.jl:245",
      " [11] #up#38 at C:\\buildbot\\worker\\package_win64\\build\\usr\\share\\julia\\stdlib\\v1.5\\Pkg\\src\\API.jl:68 [inlined]",
      " [12] instantiate(::Pkg.Types.Context; manifest::Nothing, update_registry::Bool, verbose::Bool, platform::Pkg.BinaryPlatforms.Windows, kwargs::Base.Iterators.Pairs{Union{},Union{},Tuple{},NamedTuple{(),Tuple{}}}) at C:\\buildbot\\worker\\package_win64\\build\\usr\\share\\julia\\stdlib\\v1.5\\Pkg\\src\\API.jl:810",
      " [13] instantiate(::Pkg.Types.Context) at C:\\buildbot\\worker\\package_win64\\build\\usr\\share\\julia\\stdlib\\v1.5\\Pkg\\src\\API.jl:795",
      " [14] #instantiate#169 at C:\\buildbot\\worker\\package_win64\\build\\usr\\share\\julia\\stdlib\\v1.5\\Pkg\\src\\API.jl:791 [inlined]",
      " [15] instantiate() at C:\\buildbot\\worker\\package_win64\\build\\usr\\share\\julia\\stdlib\\v1.5\\Pkg\\src\\API.jl:791",
      " [16] top-level scope at In[3]:3",
      " [17] include_string(::Function, ::Module, ::String, ::String) at .\\loading.jl:1091"
     ]
    }
   ],
   "source": [
    "using Pkg\n",
    "Pkg.activate(\"C:\\\\Users\\alili\\\\.julia\\\\environments\\\\v1.5\\\\Project.toml\") # change path \n",
    "Pkg.instantiate()"
   ]
  },
  {
   "cell_type": "code",
   "execution_count": 2,
   "metadata": {},
   "outputs": [],
   "source": [
    "using JuMP, LinearAlgebra, Plots, StatsPlots, CPLEX, Statistics, CSV, DataFrames"
   ]
  },
  {
   "cell_type": "code",
   "execution_count": 20,
   "metadata": {},
   "outputs": [
    {
     "data": {
      "text/plain": [
       "7-element Array{String,1}:\n",
       " \"22\"\n",
       " \"23\"\n",
       " \"24\"\n",
       " \"1\"\n",
       " \"2\"\n",
       " \"3A\"\n",
       " \"4\""
      ]
     },
     "execution_count": 20,
     "metadata": {},
     "output_type": "execute_result"
    }
   ],
   "source": [
    "names(scenarios_prices)[3:length(names(scenarios_prices))]"
   ]
  },
  {
   "cell_type": "code",
   "execution_count": 66,
   "metadata": {},
   "outputs": [
    {
     "data": {
      "text/plain": [
       "5000"
      ]
     },
     "execution_count": 66,
     "metadata": {},
     "output_type": "execute_result"
    }
   ],
   "source": [
    "#read scenario data\n",
    "scenarios_hexagons = CSV.read(\"scenarios_multinomial.csv\", DataFrame)\n",
    "scenarios_prices = CSV.read(\"priceScenarions3.csv\", DataFrame)\n",
    "\n",
    "SOC = 0.33\n",
    "hexagons = names(scenarios_hexagons)[1:length(names(scenarios_hexagons))-1] # vector of hexagons (strings)\n",
    "hours = names(scenarios_prices)[3:length(names(scenarios_prices))] #vector of hours for charging (strings)\n",
    "num_hours = length(hours) # duration for charging\n",
    "car_kWh = 30 # capacity of each car\n",
    "\n",
    "#demand mxn (m=hexagon, n=scenario) in kWh summe über car*max_kWh*(1-SOC)\n",
    "demand_cars = transpose(convert(Matrix,scenarios_hexagons[:,hexagons]))\n",
    "demand_kWh = demand_cars.*car_kWh.*(1-SOC)\n",
    "\n",
    "#prices mxn (m=hours, n=scenario)\n",
    "prices = transpose(convert(Matrix,scenarios_prices[:,hours]))\n",
    "\n",
    "probability_hexagons = transpose(scenarios_hexagons.probs) # probabilities for each scenario (#cars per hexagon)\n",
    "probability_prices = transpose(scenarios_prices.Probability) # probabilities for each scenario (timeseries prices)\n",
    "\n",
    "P = [3, 7, 11] # different charger types in kW\n",
    "charger_cost = [1000, 800, 500] # investment cost for charger 3 kW, 7 kW und 11 kW in €/kW\n",
    "opportunity_cost = 5000 # cost of demand not served\n"
   ]
  },
  {
   "cell_type": "code",
   "execution_count": 67,
   "metadata": {
    "scrolled": true
   },
   "outputs": [
    {
     "data": {
      "text/plain": [
       "charger_siting (generic function with 2 methods)"
      ]
     },
     "execution_count": 67,
     "metadata": {},
     "output_type": "execute_result"
    }
   ],
   "source": [
    "function charger_siting(SOC, hexagons, hours, car_kWh, demand_cars, demand_kWh, prices, \n",
    "        probability_hexagons, probability_prices, P, charger_cost, opportunity_cost)\n",
    "    \n",
    "    # Define Sets\n",
    "    Γ = Array{Int}(1:size(hexagons,1)) # Set with hexagons\n",
    "    Σ = Array{Int}(1:size(P,1)) # Set with charger types \n",
    "    Ω = Array{Int}(1:size(probability_hexagons,1)) # Set with scenarios for hexagons\n",
    "    Τ = Array{Int}(1:size(hours,1)) # Set with scenarios for prices\n",
    "    Ρ = Array{Int}(1:size(probability_prices,1)) # Set with scenarios for prices\n",
    "\n",
    "    # Initialize model    \n",
    "    m = Model(CPLEX.Optimizer)\n",
    "\n",
    "    # Define variables\n",
    "    @variable(m, 0 <= x_charger[i=Γ, j=Σ], Int) # number of specific charger type in each hexagon\n",
    "    @variable(m, 0 <= E_supplied[i=Γ, j=Σ, k=Ω, t=Τ]) # supplied energy in each hexagon kWh\n",
    "    @variable(m, 0 <= E_not_supplied[i=Γ, k=Ω]) # demand not covered kWh\n",
    "    @variable(m, 0 <= cars_supplied[i=Γ, j=Σ, k=Ω], Int)\n",
    "    @variable(m, 0 <= cars_not_supplied[i=Γ, j=Σ, k=Ω], Int)\n",
    "\n",
    "    # Objective function \n",
    "    @expression(m, invest_cost[i=Γ, j=Σ], charger_cost[j].*x_charger[i,j].*P[j]) # first stage investment cost\n",
    "    @expression(m, charging_opportunity_cost[i=Γ, k=Ω], opportunity_cost.*E_not_supplied[i,k].*probability_hexagons[k])\n",
    "    @expression(m, charging_cost[i=Γ, j=Σ, k=Ω, t=Τ, p=Ρ], prices[t,p].*E_supplied[i,j,k,t]\n",
    "                                                         .*probability_hexagons[k]\n",
    "                                                         .*probability_prices[p]) #minimize cost of charging\n",
    "    \n",
    "    @objective(m, Min, sum(invest_cost) \n",
    "                     + sum(charging_opportunity_cost)\n",
    "                     + sum(charging_cost)\n",
    "                      )\n",
    "\n",
    "    # Constraints\n",
    "    # Eq. Balance equation: Demand in each hexagon has to equal demand. Loss of load is possible\n",
    "    @constraint(m, eq_balance[i=Γ,k=Ω], sum(sum(E_supplied[i,j,k,t] for j in Σ) for t in Τ) + E_not_supplied[i,k] == demand_kWh[i,k])\n",
    "\n",
    "    # Eq. energy limit: rated_power*chargingtime must not exeed energy\n",
    "    @constraint(m, eq_cap[i=Γ,j=Σ,k=Ω,t=T], E_supplied[i,j,k,t] <= x_charger[i,j].*P[j])\n",
    "\n",
    "    # Eq. supplied cars and not supplied cars have to equal amount of cars in each hexagon\n",
    "    @constraint(m, eq_cars_supplied[i=Γ,j=Σ,k=Ω], sum(cars_supplied[i,j,k] for j in Σ) \n",
    "                                                     + sum(cars_not_supplied[i,j,k] for j in Σ)\n",
    "                                                       == demand_cars[i,k])\n",
    "\n",
    "    # Eq. maximum one car per charging station\n",
    "    @constraint(m, eq_max_cars[i=Γ,j=Σ,k=Ω], cars_supplied[i,j,k] <= x_charger[i,j])\n",
    "\n",
    "    # Eq. \n",
    "    @constraint(m, eq_max_supply[i=Γ,j=Σ,k=Ω], sum(E_supplied[i,j,k,t] for t in Τ) <= cars_supplied[i,j,k].*car_kWh.*(1-SOC))\n",
    "\n",
    "\n",
    "    # Run optimization\n",
    "    optimize!(m)\n",
    "\n",
    "    # Evaluate resuluts\n",
    "    obj = objective_value(m)\n",
    "    charger_in_hex = value.(x_charger)\n",
    "    \n",
    "    return charger_in_hex, x_charger, E_not_supplied, E_supplied, cars_not_supplied, cars_supplied\n",
    "end\n"
   ]
  },
  {
   "cell_type": "code",
   "execution_count": 68,
   "metadata": {
    "scrolled": false
   },
   "outputs": [
    {
     "name": "stdout",
     "output_type": "stream",
     "text": [
      "Version identifier: 12.10.0.0 | 2019-11-26 | 843d4de2ae\n",
      "Found incumbent of value 1.9111191e+07 after 0.00 sec. (0.21 ticks)\n",
      "Tried aggregator 1 time.\n",
      "MIP Presolve eliminated 535 rows and 2281 columns.\n",
      "MIP Presolve modified 48 coefficients.\n",
      "Reduced MIP has 726 rows, 726 columns, and 1716 nonzeros.\n",
      "Reduced MIP has 77 binaries, 385 generals, 0 SOSs, and 0 indicators.\n",
      "Presolve time = 0.00 sec. (2.76 ticks)\n",
      "Probing time = 0.00 sec. (0.06 ticks)\n",
      "Tried aggregator 1 time.\n",
      "MIP Presolve eliminated 715 rows and 715 columns.\n",
      "Reduced MIP has 11 rows, 11 columns, and 26 nonzeros.\n",
      "Reduced MIP has 7 binaries, 0 generals, 0 SOSs, and 0 indicators.\n",
      "Presolve time = 0.00 sec. (0.39 ticks)\n",
      "Probing time = 0.00 sec. (0.00 ticks)\n",
      "Tried aggregator 1 time.\n",
      "Detecting symmetries...\n",
      "Reduced MIP has 11 rows, 11 columns, and 26 nonzeros.\n",
      "Reduced MIP has 7 binaries, 0 generals, 0 SOSs, and 0 indicators.\n",
      "Presolve time = 0.00 sec. (0.02 ticks)\n",
      "Probing time = 0.00 sec. (0.00 ticks)\n",
      "Clique table members: 4.\n",
      "MIP emphasis: balance optimality and feasibility.\n",
      "MIP search method: dynamic search.\n",
      "Parallel mode: deterministic, using up to 4 threads.\n",
      "Root relaxation solution time = 0.00 sec. (0.01 ticks)\n",
      "\n",
      "        Nodes                                         Cuts/\n",
      "   Node  Left     Objective  IInf  Best Integer    Best Bound    ItCnt     Gap\n",
      "\n",
      "*     0+    0                      1716671.8144  1681411.3144             2.05%\n",
      "*     0     0      integral     0  1684519.2835  1684519.2835        0    0.00%\n",
      "Elapsed time = 0.09 sec. (68.46 ticks, tree = 0.00 MB, solutions = 3)\n",
      "\n",
      "Root node processing (before b&c):\n",
      "  Real time             =    0.09 sec. (68.58 ticks)\n",
      "Parallel b&c, 4 threads:\n",
      "  Real time             =    0.00 sec. (0.00 ticks)\n",
      "  Sync time (average)   =    0.00 sec.\n",
      "  Wait time (average)   =    0.00 sec.\n",
      "                          ------------\n",
      "Total (root+branch&cut) =    0.09 sec. (68.58 ticks)\n",
      "2-dimensional DenseAxisArray{Float64,2,...} with index sets:\n",
      "    Dimension 1, [1, 2, 3, 4, 5, 6, 7, 8, 9, 10  …  88, 89, 90, 91, 92, 93, 94, 95, 96, 97]\n",
      "    Dimension 2, [1, 2, 3]\n",
      "And data, a 97×3 Array{Float64,2}:\n",
      "  1.0  0.0  0.0\n",
      "  0.0  0.0  0.0\n",
      "  0.0  0.0  0.0\n",
      "  5.0  0.0  0.0\n",
      "  0.0  0.0  0.0\n",
      "  5.0  0.0  0.0\n",
      "  0.0  0.0  0.0\n",
      "  0.0  0.0  0.0\n",
      "  0.0  0.0  0.0\n",
      "  3.0  0.0  0.0\n",
      "  0.0  0.0  0.0\n",
      "  0.0  0.0  0.0\n",
      "  1.0  0.0  0.0\n",
      "  4.0  0.0  0.0\n",
      "  0.0  0.0  0.0\n",
      "  1.0  0.0  0.0\n",
      " 20.0  0.0  0.0\n",
      " 12.0  0.0  0.0\n",
      "  3.0  0.0  0.0\n",
      " 15.0  0.0  0.0\n",
      " 19.0  0.0  0.0\n",
      "  4.0  0.0  0.0\n",
      "  0.0  0.0  0.0\n",
      "  1.0  0.0  0.0\n",
      "  4.0  0.0  0.0\n",
      "  2.0  0.0  0.0\n",
      "  9.0  0.0  0.0\n",
      "  1.0  0.0  0.0\n",
      "  2.0  0.0  0.0\n",
      "  9.0  0.0  0.0\n",
      " 12.0  0.0  0.0\n",
      "  1.0  0.0  0.0\n",
      "  0.0  0.0  0.0\n",
      "  0.0  0.0  0.0\n",
      "  2.0  0.0  0.0\n",
      "  0.0  0.0  0.0\n",
      "  0.0  0.0  0.0\n",
      "  0.0  0.0  0.0\n",
      "  2.0  0.0  0.0\n",
      "  5.0  0.0  0.0\n",
      "  8.0  0.0  0.0\n",
      " 11.0  0.0  0.0\n",
      "  0.0  0.0  0.0\n",
      "  0.0  0.0  0.0\n",
      "  9.0  0.0  0.0\n",
      " 16.0  0.0  0.0\n",
      "  8.0  0.0  0.0\n",
      "  9.0  0.0  0.0\n",
      " 14.0  0.0  0.0\n",
      " 16.0  0.0  0.0\n",
      " 12.0  0.0  0.0\n",
      "  0.0  0.0  0.0\n",
      "  2.0  0.0  0.0\n",
      "  0.0  0.0  0.0\n",
      " 14.0  0.0  0.0\n",
      " 18.0  0.0  0.0\n",
      "  5.0  0.0  0.0\n",
      " 19.0  0.0  0.0\n",
      "  7.0  0.0  0.0\n",
      "  7.0  0.0  0.0\n",
      "  1.0  0.0  0.0\n",
      "  0.0  0.0  0.0\n",
      "  0.0  0.0  0.0\n",
      "  7.0  0.0  0.0\n",
      "  6.0  0.0  0.0\n",
      "  5.0  0.0  0.0\n",
      " 14.0  0.0  0.0\n",
      "  0.0  0.0  0.0\n",
      "  0.0  0.0  0.0\n",
      "  5.0  0.0  0.0\n",
      "  6.0  0.0  0.0\n",
      "  1.0  0.0  0.0\n",
      "  0.0  0.0  0.0\n",
      "  2.0  0.0  0.0\n",
      "  0.0  0.0  0.0\n",
      "  0.0  0.0  0.0\n",
      "  0.0  0.0  0.0\n",
      "  0.0  0.0  0.0\n",
      "  1.0  0.0  0.0\n",
      " 33.0  0.0  0.0\n",
      "  8.0  0.0  0.0\n",
      " 23.0  0.0  0.0\n",
      "  5.0  0.0  0.0\n",
      " 16.0  0.0  0.0\n",
      "  6.0  0.0  0.0\n",
      " 15.0  0.0  0.0\n",
      "  0.0  0.0  0.0\n",
      "  4.0  0.0  0.0\n",
      "  1.0  0.0  0.0\n",
      "  0.0  0.0  0.0\n",
      "  3.0  0.0  0.0\n",
      "  4.0  0.0  0.0\n",
      "  0.0  0.0  0.0\n",
      " 31.0  0.0  0.0\n",
      "  9.0  0.0  0.0\n",
      "  1.0  0.0  0.0\n",
      " 17.0  0.0  0.0\n"
     ]
    }
   ],
   "source": [
    "charger_in_hex, x_charger, E_not_supplied, E_supplied, cars_not_supplied, cars_supplied = charger_siting(\n",
    "    SOC, hexagons, hours, car_kWh, demand_cars, demand_kWh, prices, \n",
    "        probability_hexagons, probability_prices, P, charger_cost, opportunity_cost)\n",
    "\n",
    "println(charger_in_hex)"
   ]
  },
  {
   "cell_type": "code",
   "execution_count": null,
   "metadata": {},
   "outputs": [],
   "source": []
  }
 ],
 "metadata": {
  "kernelspec": {
   "display_name": "Julia 1.5.3",
   "language": "julia",
   "name": "julia-1.5"
  },
  "language_info": {
   "file_extension": ".jl",
   "mimetype": "application/julia",
   "name": "julia",
   "version": "1.5.3"
  }
 },
 "nbformat": 4,
 "nbformat_minor": 4
}
